{
 "cells": [
  {
   "cell_type": "code",
   "execution_count": null,
   "id": "a2834d75",
   "metadata": {},
   "outputs": [],
   "source": [
    "from src import data_handler\n",
    "from src import visualization\n",
    "\n",
    "%load_ext autoreload\n",
    "%autoreload"
   ]
  },
  {
   "cell_type": "code",
   "execution_count": null,
   "id": "452adab0",
   "metadata": {},
   "outputs": [],
   "source": [
    "PATH_CONFIG = 'data/config/all.json'\n",
    "map = data_handler.Map(PATH_CONFIG)\n",
    "visualization.draw_map(map)"
   ]
  },
  {
   "cell_type": "markdown",
   "id": "7bb8fbb3",
   "metadata": {},
   "source": [
    "---"
   ]
  },
  {
   "cell_type": "code",
   "execution_count": null,
   "id": "2a2a457b",
   "metadata": {},
   "outputs": [],
   "source": [
    "# coords = '''45.54746604791109, 18.682544633182477\n",
    "# 45.549446511248455, 18.687297486166134\n",
    "# 45.5506408252196, 18.691420481006407\n",
    "# 45.548813775826304, 18.694155732754975\n",
    "# 45.54398531464436, 18.69751200316696\n",
    "# 45.54388878343771, 18.702580710427956\n",
    "# 45.54106827199527, 18.70526080167375\n",
    "# 45.54636020650588, 18.707317420398564\n",
    "# 45.55037278264272, 18.706779790990073\n",
    "# 45.5525023934515, 18.714639462231517\n",
    "# 45.55417210057695, 18.714915303856785\n",
    "# 45.55463731440392, 18.703126028625693\n",
    "# 45.554805309243456, 18.697879485124925\n",
    "# 45.55504308280588, 18.694381501031227\n",
    "# 45.556329777768646, 18.689498331242003\n",
    "# 45.55739476464638, 18.685246266870568\n",
    "# 45.55843040633255, 18.677781449935246\n",
    "# 45.555210288759795, 18.675215655779972\n",
    "# 45.549610800430045, 18.678148782143264\n",
    "# 45.5468377601314, 18.678971514394426'''\n",
    "\n",
    "# coords_out = coords.replace('\\n', '\\n},\\n')\n",
    "# coords_out = coords_out.replace(', ', ',\\n')\n",
    "# coords_out = coords_out.replace('45.', '{\\n\\t\"lat\": 45.')\n",
    "# coords_out = coords_out.replace('18.', '\\t\"lon\": 18.') + '\\n}'\n",
    "\n",
    "# print(coords_out)"
   ]
  },
  {
   "cell_type": "code",
   "execution_count": null,
   "id": "2d4f3940",
   "metadata": {},
   "outputs": [],
   "source": []
  }
 ],
 "metadata": {
  "kernelspec": {
   "display_name": "Python 3 (ipykernel)",
   "language": "python",
   "name": "python3"
  },
  "language_info": {
   "codemirror_mode": {
    "name": "ipython",
    "version": 3
   },
   "file_extension": ".py",
   "mimetype": "text/x-python",
   "name": "python",
   "nbconvert_exporter": "python",
   "pygments_lexer": "ipython3",
   "version": "3.9.6"
  }
 },
 "nbformat": 4,
 "nbformat_minor": 5
}
