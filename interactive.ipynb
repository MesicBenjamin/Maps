{
 "cells": [
  {
   "cell_type": "code",
   "execution_count": null,
   "id": "a2834d75",
   "metadata": {},
   "outputs": [],
   "source": [
    "from src import data_handler\n",
    "from src import visualization\n",
    "\n",
    "%load_ext autoreload\n",
    "%autoreload"
   ]
  },
  {
   "cell_type": "code",
   "execution_count": null,
   "id": "7451d126",
   "metadata": {},
   "outputs": [],
   "source": [
    "%load_ext autoreload\n",
    "%autoreload\n",
    "\n",
    "PATH_CONFIG = 'data/config/altitude.json'\n",
    "map = data_handler.Map(PATH_CONFIG)"
   ]
  },
  {
   "cell_type": "code",
   "execution_count": null,
   "id": "452adab0",
   "metadata": {},
   "outputs": [],
   "source": [
    "visualization.draw_map(map)"
   ]
  },
  {
   "cell_type": "markdown",
   "id": "7bb8fbb3",
   "metadata": {},
   "source": [
    "---"
   ]
  },
  {
   "cell_type": "code",
   "execution_count": null,
   "id": "2a2a457b",
   "metadata": {},
   "outputs": [],
   "source": [
    "coords = '''\n",
    "'''\n",
    "\n",
    "coords_out = coords.replace('\\n', '\\n},\\n')\n",
    "coords_out = coords_out.replace(', ', ',\\n')\n",
    "coords_out = coords_out.replace('45.', '{\\n\\t\"lat\": 45.')\n",
    "coords_out = coords_out.replace('18.', '\\t\"lon\": 18.') + '\\n}'\n",
    "\n",
    "print(coords_out)"
   ]
  },
  {
   "cell_type": "markdown",
   "id": "1d3e6cb0",
   "metadata": {},
   "source": [
    "---\n",
    "### Test"
   ]
  },
  {
   "cell_type": "code",
   "execution_count": null,
   "id": "2d4f3940",
   "metadata": {},
   "outputs": [],
   "source": [
    "import requests\n",
    "import numpy as np\n",
    "import plotly.graph_objects as go\n",
    "import time\n",
    "from scipy.spatial import Voronoi\n",
    "import pandas as pd\n",
    "import shapely\n",
    "from shapely.ops import unary_union\n",
    "\n",
    "link_template = \"https://api.opentopodata.org/v1/aster30m?locations={}\""
   ]
  },
  {
   "cell_type": "code",
   "execution_count": null,
   "id": "1825d914",
   "metadata": {},
   "outputs": [],
   "source": [
    "# # Heidelberg\n",
    "# area = {\n",
    "#     'top_left' : {\n",
    "#         \"lat\" : 49.45314108607197,\n",
    "#         \"lon\" :  8.598836023463372\n",
    "#     },\n",
    "#     'bottom_right' : {\n",
    "#         \"lat\" : 49.35674378792299,\n",
    "#         \"lon\" : 8.791660077089931\n",
    "#     },\n",
    "#     'n_points_lat' : 20,\n",
    "#     'n_points_lon' : 40\n",
    "# }"
   ]
  },
  {
   "cell_type": "code",
   "execution_count": null,
   "id": "a9cee554",
   "metadata": {},
   "outputs": [],
   "source": [
    "# Zagreb\n",
    "area = {\n",
    "    'top_left' : {\n",
    "        \"lat\" : 45.88290804839089,\n",
    "        \"lon\" : 15.779222787436899\n",
    "    },\n",
    "    'bottom_right' : {\n",
    "        \"lat\" : 45.748117841442884,\n",
    "        \"lon\" : 16.131947831759277\n",
    "    },\n",
    "    'n_points_lat' : 20,\n",
    "    'n_points_lon' : 40\n",
    "}"
   ]
  },
  {
   "cell_type": "code",
   "execution_count": null,
   "id": "ff3a541a",
   "metadata": {},
   "outputs": [],
   "source": [
    "# # Osijek\n",
    "# area = {\n",
    "#     'top_left' : {\n",
    "#         \"lat\" : 45.582192556138516,\n",
    "#         \"lon\" : 18.63453482614465\n",
    "#     },\n",
    "#     'bottom_right' : {\n",
    "#         \"lat\" : 45.52679570361777,\n",
    "#         \"lon\" : 18.767093938381354\n",
    "#     },\n",
    "#     'n_points_lat' : 20,\n",
    "#     'n_points_lon' : 40\n",
    "# }"
   ]
  },
  {
   "cell_type": "code",
   "execution_count": null,
   "id": "7af03e78",
   "metadata": {},
   "outputs": [],
   "source": [
    "lon_linspace = np.linspace(area['top_left']['lon'], area['bottom_right']['lon'], area['n_points_lon'])\n",
    "lat_linspace = np.linspace(area['top_left']['lat'], area['bottom_right']['lat'], area['n_points_lat'])\n",
    "lon_mesh, lat_mesh = np.meshgrid(lon_linspace, lat_linspace)\n",
    "lon_mesh[::2] +=  (lon_linspace[1] - lon_linspace[0])*0.5\n",
    "\n",
    "lon = lon_mesh.flatten()\n",
    "lat = lat_mesh.flatten()\n",
    "\n",
    "lon_batches = lon.reshape(-1, 100)\n",
    "lat_batches = lat.reshape(-1, 100)"
   ]
  },
  {
   "cell_type": "code",
   "execution_count": null,
   "id": "5d3fa37d",
   "metadata": {},
   "outputs": [],
   "source": [
    "altitude_container = {\n",
    "    'lon' : [],\n",
    "    'lat' : [],\n",
    "    'altitude' : []\n",
    "}\n",
    "\n",
    "for lon, lat in zip(lon_batches, lat_batches):\n",
    "\n",
    "    lon_lat = ' | '.join([ '{},{}'.format(llat, llon) for llon, llat in zip(lon, lat)])\n",
    "    link = link_template.format(lon_lat)\n",
    "    link_content = requests.get(link).json()\n",
    "\n",
    "    for p in link_content['results']:\n",
    "\n",
    "        altitude_container['lat'].append(p['location']['lat'])\n",
    "        altitude_container['lon'].append(p['location']['lng'])\n",
    "        altitude_container['altitude'].append(p['elevation'])       \n",
    "\n",
    "    time.sleep(1)\n",
    " "
   ]
  },
  {
   "cell_type": "code",
   "execution_count": null,
   "id": "36df48e5",
   "metadata": {},
   "outputs": [],
   "source": [
    "fig = go.Figure()\n",
    "\n",
    "fig.add_trace(\n",
    "    go.Scattermapbox(\n",
    "        lat = altitude_container['lat'],\n",
    "        lon = altitude_container['lon'],\n",
    "        # mode='markers',\n",
    "        marker = {\n",
    "            'size': 10,\n",
    "            'color': altitude_container['altitude'],\n",
    "            # 'opacity': 0.5\n",
    "            'showscale':True\n",
    "        },\n",
    "        hoverinfo= 'lat+lon+text',\n",
    "        # hoverlabel = dict(namelength = -1),\n",
    "        text = [str(a) for a in altitude_container['altitude']]\n",
    "        # name =' | '.join(name.split('_'))\n",
    "    )\n",
    ")\n",
    "\n",
    "fig.update_layout(\n",
    "    hovermode='closest',\n",
    "    mapbox=dict(\n",
    "        accesstoken='',\n",
    "        center=go.layout.mapbox.Center(\n",
    "            # lat = 45.55854878748722,\n",
    "            # lon = 18.684848674241845\n",
    "            # lat = 49.39899696293843,\n",
    "            # lon = 8.67195560600178,\n",
    "            lat = 45.809043592257105,\n",
    "            lon = 15.95778297342564\n",
    "        ),\n",
    "        style='open-street-map',\n",
    "        pitch=0,\n",
    "        zoom=12, \n",
    "    ),\n",
    "    margin={'r':0,'t':0,'l':0,'b':0},\n",
    "    showlegend = False,\n",
    "    width=1000,\n",
    "    height=1000        \n",
    ")"
   ]
  },
  {
   "cell_type": "code",
   "execution_count": null,
   "id": "79bf9c1d",
   "metadata": {},
   "outputs": [],
   "source": [
    "df = pd.DataFrame(altitude_container)"
   ]
  },
  {
   "cell_type": "code",
   "execution_count": null,
   "id": "eb10335b",
   "metadata": {},
   "outputs": [],
   "source": [
    "altitude_min = 200\n",
    "altitude_max = 1000\n",
    "\n",
    "mask = (df['altitude'] >= altitude_min) & (df['altitude'] <= altitude_max )"
   ]
  },
  {
   "cell_type": "code",
   "execution_count": null,
   "id": "c08ecb31",
   "metadata": {},
   "outputs": [],
   "source": [
    "vor = Voronoi(df[['lat', 'lon']].to_numpy())"
   ]
  },
  {
   "cell_type": "code",
   "execution_count": null,
   "id": "d46e19b9",
   "metadata": {},
   "outputs": [],
   "source": [
    "# regions = [vor.regions[1:][i] for i in df[mask].index.values]\n",
    "regions = vor.point_region[df[mask].index.values]\n",
    "regions = [vor.regions[r] for r in regions]\n",
    "regions = [list(filter(lambda x: x != -1, r)) for r in regions]\n",
    "regions = [r for r in regions if len(r)>2]"
   ]
  },
  {
   "cell_type": "code",
   "execution_count": null,
   "id": "0af19d73",
   "metadata": {},
   "outputs": [],
   "source": [
    "stacked_polygons = unary_union([data_handler.convert_coords_to_shapely_polygon({ 'lat': vor.vertices[r][:,0], 'lon': vor.vertices[r][:,1]}) \n",
    "                               for r in regions])"
   ]
  },
  {
   "cell_type": "code",
   "execution_count": null,
   "id": "cdb4bad3",
   "metadata": {},
   "outputs": [],
   "source": [
    "stacked_polygons"
   ]
  },
  {
   "cell_type": "code",
   "execution_count": null,
   "id": "4e33782c",
   "metadata": {},
   "outputs": [],
   "source": [
    "fig = go.Figure()\n",
    "\n",
    "fig.add_trace(\n",
    "    go.Scattermapbox(\n",
    "        lat = df[mask]['lat'],\n",
    "        lon = df[mask]['lon'],\n",
    "        # mode='markers',\n",
    "        marker = {\n",
    "            'size': 10,\n",
    "            'color': df[mask]['altitude'],\n",
    "            # 'opacity': 0.5\n",
    "            'showscale':True\n",
    "        },\n",
    "        hoverinfo= 'lat+lon+text',\n",
    "        # hoverlabel = dict(namelength = -1),\n",
    "        text = [str(a) for a in df[mask]['altitude']]\n",
    "        # name =' | '.join(name.split('_'))\n",
    "    )\n",
    ")\n",
    "\n",
    "fig.update_layout(\n",
    "    hovermode='closest',\n",
    "    mapbox=dict(\n",
    "        accesstoken='pk.eyJ1IjoiYmVuamFtaW5tZXNpYyIsImEiOiJja3ZucDRjcDQwdG1nMzNxZnJ6cHd2ZzNzIn0.uWSETefP3q7BrtrZ7B1a-g',\n",
    "        center=go.layout.mapbox.Center(\n",
    "            # lat = 45.55854878748722,\n",
    "            # lon = 18.684848674241845\n",
    "            # lat = 49.39899696293843,\n",
    "            # lon = 8.67195560600178,\n",
    "            lat = 45.809043592257105,\n",
    "            lon = 15.95778297342564\n",
    "        ),\n",
    "        style='open-street-map',\n",
    "        pitch=0,\n",
    "        zoom=12, \n",
    "    ),\n",
    "    margin={'r':0,'t':0,'l':0,'b':0},\n",
    "    showlegend = False,\n",
    "    width=1000,\n",
    "    height=1000        \n",
    ")\n",
    "\n",
    "fig.update_layout(\n",
    "    mapbox = {\n",
    "        'layers': [\n",
    "            {\n",
    "                'source': stacked_polygons.__geo_interface__,\n",
    "                'type': 'fill',\n",
    "                'color': 'blue',\n",
    "                'opacity': 0.4\n",
    "            } \n",
    "        ],\n",
    "    },       \n",
    ")"
   ]
  },
  {
   "cell_type": "code",
   "execution_count": null,
   "id": "5e7cea1f",
   "metadata": {},
   "outputs": [],
   "source": []
  }
 ],
 "metadata": {
  "kernelspec": {
   "display_name": "Python 3 (ipykernel)",
   "language": "python",
   "name": "python3"
  },
  "language_info": {
   "codemirror_mode": {
    "name": "ipython",
    "version": 3
   },
   "file_extension": ".py",
   "mimetype": "text/x-python",
   "name": "python",
   "nbconvert_exporter": "python",
   "pygments_lexer": "ipython3",
   "version": "3.9.6"
  }
 },
 "nbformat": 4,
 "nbformat_minor": 5
}
