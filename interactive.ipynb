{
 "cells": [
  {
   "cell_type": "code",
   "execution_count": null,
   "id": "a2834d75",
   "metadata": {},
   "outputs": [],
   "source": [
    "from src import data_handler\n",
    "from src import visualization\n",
    "\n",
    "%load_ext autoreload\n",
    "%autoreload"
   ]
  },
  {
   "cell_type": "code",
   "execution_count": null,
   "id": "7451d126",
   "metadata": {},
   "outputs": [],
   "source": [
    "PATH_CONFIG = 'data/config/zagreb/elevation.json'\n",
    "map = data_handler.Map(PATH_CONFIG)"
   ]
  },
  {
   "cell_type": "code",
   "execution_count": null,
   "id": "452adab0",
   "metadata": {},
   "outputs": [],
   "source": [
    "figures = visualization.draw_map(map)"
   ]
  },
  {
   "cell_type": "code",
   "execution_count": null,
   "id": "68e4f661",
   "metadata": {},
   "outputs": [],
   "source": [
    "figures['elevation']"
   ]
  },
  {
   "cell_type": "markdown",
   "id": "7bb8fbb3",
   "metadata": {},
   "source": [
    "---"
   ]
  },
  {
   "cell_type": "code",
   "execution_count": null,
   "id": "2a2a457b",
   "metadata": {},
   "outputs": [],
   "source": [
    "coords = '''\n",
    "'''\n",
    "\n",
    "coords_out = coords.replace('\\n', '\\n},\\n')\n",
    "coords_out = coords_out.replace(', ', ',\\n')\n",
    "coords_out = coords_out.replace('45.', '{\\n\\t\"lat\": 45.')\n",
    "coords_out = coords_out.replace('18.', '\\t\"lon\": 18.') + '\\n}'\n",
    "\n",
    "print(coords_out)"
   ]
  }
 ],
 "metadata": {
  "kernelspec": {
   "display_name": "Python 3 (ipykernel)",
   "language": "python",
   "name": "python3"
  },
  "language_info": {
   "codemirror_mode": {
    "name": "ipython",
    "version": 3
   },
   "file_extension": ".py",
   "mimetype": "text/x-python",
   "name": "python",
   "nbconvert_exporter": "python",
   "pygments_lexer": "ipython3",
   "version": "3.9.6"
  }
 },
 "nbformat": 4,
 "nbformat_minor": 5
}
