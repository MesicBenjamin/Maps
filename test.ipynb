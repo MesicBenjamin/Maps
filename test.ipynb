{
 "cells": [
  {
   "cell_type": "code",
   "execution_count": 1,
   "id": "a2834d75",
   "metadata": {},
   "outputs": [],
   "source": [
    "# import plotly.graph_objects as go\n",
    "\n",
    "from src import mapbox\n",
    "from src import data_handler\n",
    "from src import visualization\n",
    "\n",
    "%load_ext autoreload\n",
    "%autoreload"
   ]
  },
  {
   "cell_type": "markdown",
   "id": "5846e2c9",
   "metadata": {},
   "source": [
    "---\n",
    "## Simple test"
   ]
  },
  {
   "cell_type": "code",
   "execution_count": null,
   "id": "5aa31677",
   "metadata": {},
   "outputs": [],
   "source": [
    "TOKEN = mapbox.get_token('data/tokens/mapbox.txt')\n",
    "\n",
    "LAT = 45.55854878748722\n",
    "LON = 18.684848674241845"
   ]
  },
  {
   "cell_type": "code",
   "execution_count": null,
   "id": "4b1da06f",
   "metadata": {},
   "outputs": [],
   "source": [
    "\n",
    "polygon = mapbox.get_mapbox_isochrone_polygon(\n",
    "    profile = 'cycling',\n",
    "    lon = LON,\n",
    "    lat = LAT,\n",
    "    contours_minutes = 20,\n",
    "    mapbox_token = TOKEN\n",
    ")"
   ]
  },
  {
   "cell_type": "code",
   "execution_count": null,
   "id": "b4724432",
   "metadata": {},
   "outputs": [],
   "source": [
    "\n",
    "fig = go.Figure(go.Scattermapbox(\n",
    "    mode = \"markers\",\n",
    "    lon = [LON], lat = [LAT],\n",
    "    marker = {'size': 5, 'color': [\"blue\"]}),    \n",
    "    )\n",
    "\n",
    "fig.update_layout(\n",
    "    mapbox = {\n",
    "        # 'style': \"satellite\",\n",
    "        'style': \"open-street-map\",\n",
    "        'center': { 'lon': LON, 'lat': LAT},\n",
    "        'zoom': 12, 'layers': [{\n",
    "            'source': {\n",
    "                'type': \"FeatureCollection\",\n",
    "                'features': [{\n",
    "                    'type': \"Feature\",\n",
    "                    'geometry': {\n",
    "                        'type': \"MultiPolygon\",\n",
    "                        'coordinates': [polygon]\n",
    "                    }\n",
    "                }]\n",
    "            },\n",
    "            'type': \"fill\", 'below': \"traces\", 'color': \"royalblue\", \"opacity\":0.5}]},\n",
    "    margin = {'l':0, 'r':0, 'b':0, 't':0},\n",
    "    # mapbox_accesstoken=TOKEN,\n",
    "    width=1000,\n",
    "    height=1000\n",
    "    )\n",
    "\n",
    "fig.show()"
   ]
  },
  {
   "cell_type": "markdown",
   "id": "e8b30130",
   "metadata": {},
   "source": [
    "---\n",
    "## Main"
   ]
  },
  {
   "cell_type": "code",
   "execution_count": 168,
   "id": "452adab0",
   "metadata": {},
   "outputs": [],
   "source": [
    "PATH_CONFIG = 'data/config/test.json'\n",
    "locations = data_handler.prepare_locations(PATH_CONFIG)\n",
    "locations_stacked = data_handler.stack_locations(locations)"
   ]
  },
  {
   "cell_type": "code",
   "execution_count": 170,
   "id": "eb362bea",
   "metadata": {},
   "outputs": [
    {
     "name": "stdout",
     "output_type": "stream",
     "text": [
      "The autoreload extension is already loaded. To reload it, use:\n",
      "  %reload_ext autoreload\n"
     ]
    }
   ],
   "source": [
    "visualization.visualize(locations, locations_stacked)"
   ]
  },
  {
   "cell_type": "code",
   "execution_count": null,
   "id": "839c5cd1",
   "metadata": {},
   "outputs": [],
   "source": []
  }
 ],
 "metadata": {
  "kernelspec": {
   "display_name": "Python 3 (ipykernel)",
   "language": "python",
   "name": "python3"
  },
  "language_info": {
   "codemirror_mode": {
    "name": "ipython",
    "version": 3
   },
   "file_extension": ".py",
   "mimetype": "text/x-python",
   "name": "python",
   "nbconvert_exporter": "python",
   "pygments_lexer": "ipython3",
   "version": "3.9.6"
  }
 },
 "nbformat": 4,
 "nbformat_minor": 5
}
