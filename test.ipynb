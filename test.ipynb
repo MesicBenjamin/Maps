{
 "cells": [
  {
   "cell_type": "code",
   "execution_count": 1,
   "id": "a2834d75",
   "metadata": {},
   "outputs": [],
   "source": [
    "import plotly.graph_objects as go\n",
    "import shapely\n",
    "\n",
    "from src import mapbox\n",
    "from src import data_handler\n",
    "from src import visualization\n",
    "\n",
    "%load_ext autoreload\n",
    "%autoreload"
   ]
  },
  {
   "cell_type": "markdown",
   "id": "5846e2c9",
   "metadata": {},
   "source": [
    "---\n",
    "## Simple test"
   ]
  },
  {
   "cell_type": "code",
   "execution_count": 35,
   "id": "5aa31677",
   "metadata": {},
   "outputs": [],
   "source": [
    "LAT = 45.55854878748722\n",
    "LON = 18.684848674241845"
   ]
  },
  {
   "cell_type": "code",
   "execution_count": 36,
   "id": "4b1da06f",
   "metadata": {},
   "outputs": [],
   "source": [
    "polygons_coordinates = mapbox.get_mapbox_isochrone_coordinates(\n",
    "    profile = 'walking',\n",
    "    lon = LON,\n",
    "    lat = LAT,\n",
    "    contours_minutes = 10,\n",
    ")\n",
    "\n",
    "# polygon_shapely = shapely.Polygon(polygon[0])"
   ]
  },
  {
   "cell_type": "code",
   "execution_count": null,
   "id": "d34a1a51",
   "metadata": {},
   "outputs": [],
   "source": [
    "fig = go.Figure()\n",
    "\n",
    "fig.add_trace(\n",
    "    go.Scattermapbox(\n",
    "        lat = [LAT],\n",
    "        lon = [LON],\n",
    "        mode='markers',\n",
    "        marker = {'size': 10, 'color': [\"royalblue\"]},\n",
    "    )\n",
    ")\n",
    "\n",
    "# fig.add_trace(\n",
    "#     go.Scattermapbox(\n",
    "#         mode = 'lines', fill = 'toself',                        \n",
    "#         lat = line['lat'],\n",
    "#         lon = line['lon'],\n",
    "#         hoverinfo=['name'],\n",
    "#         line = {'color': \"royalblue\"},                  \n",
    "#     ),\n",
    "# )\n",
    "\n",
    "# fig.add_trace(\n",
    "#     go.Scattermapbox(\n",
    "#         mode = 'lines', fill = 'toself',                        \n",
    "#         lat = data_handler.convert_shapely_polygon(polygon_shapely)['lat'],\n",
    "#         lon = data_handler.convert_shapely_polygon(polygon_shapely)['lon'],\n",
    "#         hoverinfo=['name'],\n",
    "#         line = {'color': \"royalblue\"},                  \n",
    "#     ),\n",
    "# )\n",
    "\n",
    "fig.update_layout(\n",
    "        mapbox = {\n",
    "            'accesstoken': TOKEN,\n",
    "            'style': 'open-street-map',\n",
    "            'zoom': 12,\n",
    "            'center': {'lat' : LAT, 'lon' : LON},\n",
    "        },\n",
    "        margin={'r':0,'t':0,'l':0,'b':0},\n",
    "        showlegend = False,\n",
    "        width=1000,\n",
    "        height=1000            \n",
    ")\n",
    "\n",
    "fig.show()"
   ]
  },
  {
   "cell_type": "markdown",
   "id": "e8b30130",
   "metadata": {},
   "source": [
    "---\n",
    "## Main"
   ]
  },
  {
   "cell_type": "code",
   "execution_count": 9,
   "id": "452adab0",
   "metadata": {},
   "outputs": [
    {
     "name": "stdout",
     "output_type": "stream",
     "text": [
      "The autoreload extension is already loaded. To reload it, use:\n",
      "  %reload_ext autoreload\n"
     ]
    }
   ],
   "source": [
    "PATH_CONFIG = 'data/config/test_002.json'\n",
    "map = data_handler.Map(PATH_CONFIG)"
   ]
  },
  {
   "cell_type": "code",
   "execution_count": 11,
   "id": "eb362bea",
   "metadata": {},
   "outputs": [
    {
     "data": {
      "application/vnd.plotly.v1+json": {
       "config": {
        "plotlyServerURL": "https://plot.ly"
       },
       "data": [
        {
         "hoverinfo": [
          "name"
         ],
         "lat": [
          45.55736880441413
         ],
         "lon": [
          18.69991741658569
         ],
         "marker": {
          "color": [
           "purple"
          ],
          "size": 10
         },
         "mode": "markers",
         "name": "Vrtic #1_cycling_20",
         "type": "scattermapbox"
        },
        {
         "hoverinfo": [
          "name"
         ],
         "lat": [
          45.548479071373
         ],
         "lon": [
          18.695157105724466
         ],
         "marker": {
          "color": [
           "blue"
          ],
          "size": 10
         },
         "mode": "markers",
         "name": "Gradski bazeni_cycling_20",
         "type": "scattermapbox"
        },
        {
         "hoverinfo": [
          "name"
         ],
         "lat": [
          45.558640523748124
         ],
         "lon": [
          18.684874812162008
         ],
         "marker": {
          "color": [
           "orange"
          ],
          "size": 10
         },
         "mode": "markers",
         "name": "Fakultet primijenjene matematike i informatike_cycling_20",
         "type": "scattermapbox"
        },
        {
         "hoverinfo": [
          "name"
         ],
         "lat": [
          45.5581167333811,
          45.55794614458108,
          45.557601400389466,
          45.55737059588567,
          45.55692727100873,
          45.555661390497804,
          45.554838940401766,
          45.55474133224361,
          45.55453264726456,
          45.55410181131148,
          45.55317281005376,
          45.55215627659018,
          45.550903931595556,
          45.546014565341316
         ],
         "lon": [
          18.682742808422585,
          18.68336290829464,
          18.68418072367243,
          18.685111197383105,
          18.686970840869655,
          18.691948963894777,
          18.69519761843501,
          18.697770728068676,
          18.704750257362193,
          18.71560409883954,
          18.720545528698143,
          18.726717509257885,
          18.73328017705442,
          18.742109382319025
         ],
         "marker": {
          "color": [
           "cadetblue",
           "cadetblue",
           "cadetblue",
           "cadetblue",
           "cadetblue",
           "cadetblue",
           "cadetblue",
           "cadetblue",
           "cadetblue",
           "cadetblue",
           "cadetblue",
           "cadetblue",
           "cadetblue",
           "cadetblue"
          ],
          "size": 10
         },
         "mode": "markers",
         "name": "Vukovarska cesta_0.005",
         "type": "scattermapbox"
        },
        {
         "fill": "toself",
         "hoverinfo": [
          "name"
         ],
         "lat": [
          45.553013,
          45.553007,
          45.553844,
          45.553839,
          45.553488,
          45.552493,
          45.552178,
          45.551321,
          45.551335,
          45.550324,
          45.550065,
          45.548641,
          45.547393,
          45.546978,
          45.54499,
          45.544641,
          45.54391,
          45.542641,
          45.54126932234144,
          45.54142411137589,
          45.54164047100941,
          45.54614244804291,
          45.54723303355206,
          45.54823927713172,
          45.548258896973195,
          45.549120264498114,
          45.54953561166426,
          45.549743565708084,
          45.54974492582317,
          45.54984253398133,
          45.549889930358084,
          45.54999186062654,
          45.55081431072258,
          45.55081560735913,
          45.55207225422662,
          45.55250689066585,
          45.55251766553205,
          45.552748470035844,
          45.5528568630078,
          45.55299403163328,
          45.5532118858595,
          45.553295828350045,
          45.55344903517875,
          45.55364719449276,
          45.55388839790957,
          45.55417032250841,
          45.55449025320128,
          45.55484510888072,
          45.55523147209255,
          45.55564562194783,
          45.55608356995707,
          45.556541098441514,
          45.557013801151754,
          45.55749712570229,
          45.55798641741349,
          45.55847696413869,
          45.55896404164477,
          45.55944295910909,
          45.55990910429466,
          45.56035798796852,
          45.560785287135516,
          45.56118688667107,
          45.56155891895212,
          45.56189780110444,
          45.56220026950764,
          45.56246341122566,
          45.5626846920599,
          45.56286198095495,
          45.562993570521854,
          45.56307819348115,
          45.563115034867465,
          45.563103739878116,
          45.56304441729003,
          45.56293763841215,
          45.562767049612134,
          45.562553513337264,
          45.562360369361734,
          45.56222901466589,
          45.56179097622855,
          45.56177305414741,
          45.560507823301116,
          45.559815368452895,
          45.55973849917787,
          45.55953041380008,
          45.55952871281404,
          45.55909787686097,
          45.55901572439205,
          45.55809716167951,
          45.55708980951222,
          45.55706765096211,
          45.555815305967485,
          45.55568897916166,
          45.55550921666573,
          45.555278025927464,
          45.553867763602376,
          45.553013
         ],
         "line": {
          "color": "gray"
         },
         "lon": [
          18.737875,
          18.735875,
          18.734875,
          18.733875,
          18.733722,
          18.734727,
          18.736413,
          18.736875,
          18.737875,
          18.738875,
          18.740299,
          18.740527,
          18.741627,
          18.743213,
          18.744875,
          18.746607,
          18.742606,
          18.742153,
          18.740540677138185,
          18.74012753157003,
          18.73968713155258,
          18.731557472766873,
          18.7258424737602,
          18.719732969219,
          18.71962170066399,
          18.71504001988426,
          18.704576379913536,
          18.69762129695937,
          18.69758119474226,
          18.695008085108594,
          18.694485368768444,
          18.69397050081531,
          18.69072184627508,
          18.690716735923615,
          18.685774924550806,
          18.683951727014918,
          18.68390742540184,
          18.682976951691167,
          18.682602951498133,
          18.682238520504747,
          18.681721718363768,
          18.68141658269459,
          18.680950437509022,
          18.68050155383516,
          18.68007425466817,
          18.679672655132613,
          18.679300622851557,
          18.67896174069924,
          18.678659272296038,
          18.678396130578026,
          18.67817484974379,
          18.67799756084873,
          18.677865971281825,
          18.677781348322537,
          18.67774450693622,
          18.677755801925567,
          18.677815124513657,
          18.677921903391535,
          18.678075110220234,
          18.678273269534248,
          18.678514472951054,
          18.678796397549895,
          18.679116328242767,
          18.679471183922207,
          18.679857547134038,
          18.680271696989323,
          18.680709644998554,
          18.681167173483,
          18.68163987619324,
          18.682123200743778,
          18.682612492454975,
          18.683103039180175,
          18.68359011668626,
          18.68406903415058,
          18.684689134022634,
          18.685305111462323,
          18.68576329500002,
          18.686292843120828,
          18.688130311237842,
          18.688203068840817,
          18.69317863703517,
          18.69591381403548,
          18.697940213015183,
          18.7048996884715,
          18.704948572831157,
          18.715802414308502,
          18.71652792687369,
          18.72141383329954,
          18.72753006873703,
          18.727654740167953,
          18.73421740796449,
          18.734730459713116,
          18.73522731583283,
          18.73570242782087,
          18.738249075974778,
          18.737875
         ],
         "mode": "lines",
         "name": "Final",
         "type": "scattermapbox"
        }
       ],
       "layout": {
        "height": 1000,
        "mapbox": {
         "accesstoken": "pk.eyJ1IjoiYmVuamFtaW5tZXNpYyIsImEiOiJja3ZucDRjcDQwdG1nMzNxZnJ6cHd2ZzNzIn0.uWSETefP3q7BrtrZ7B1a-g",
         "center": {
          "lat": 45.55854878748722,
          "lon": 18.684848674241845
         },
         "style": "open-street-map",
         "zoom": 12
        },
        "margin": {
         "b": 0,
         "l": 0,
         "r": 0,
         "t": 0
        },
        "showlegend": false,
        "template": {
         "data": {
          "bar": [
           {
            "error_x": {
             "color": "#2a3f5f"
            },
            "error_y": {
             "color": "#2a3f5f"
            },
            "marker": {
             "line": {
              "color": "#E5ECF6",
              "width": 0.5
             },
             "pattern": {
              "fillmode": "overlay",
              "size": 10,
              "solidity": 0.2
             }
            },
            "type": "bar"
           }
          ],
          "barpolar": [
           {
            "marker": {
             "line": {
              "color": "#E5ECF6",
              "width": 0.5
             },
             "pattern": {
              "fillmode": "overlay",
              "size": 10,
              "solidity": 0.2
             }
            },
            "type": "barpolar"
           }
          ],
          "carpet": [
           {
            "aaxis": {
             "endlinecolor": "#2a3f5f",
             "gridcolor": "white",
             "linecolor": "white",
             "minorgridcolor": "white",
             "startlinecolor": "#2a3f5f"
            },
            "baxis": {
             "endlinecolor": "#2a3f5f",
             "gridcolor": "white",
             "linecolor": "white",
             "minorgridcolor": "white",
             "startlinecolor": "#2a3f5f"
            },
            "type": "carpet"
           }
          ],
          "choropleth": [
           {
            "colorbar": {
             "outlinewidth": 0,
             "ticks": ""
            },
            "type": "choropleth"
           }
          ],
          "contour": [
           {
            "colorbar": {
             "outlinewidth": 0,
             "ticks": ""
            },
            "colorscale": [
             [
              0,
              "#0d0887"
             ],
             [
              0.1111111111111111,
              "#46039f"
             ],
             [
              0.2222222222222222,
              "#7201a8"
             ],
             [
              0.3333333333333333,
              "#9c179e"
             ],
             [
              0.4444444444444444,
              "#bd3786"
             ],
             [
              0.5555555555555556,
              "#d8576b"
             ],
             [
              0.6666666666666666,
              "#ed7953"
             ],
             [
              0.7777777777777778,
              "#fb9f3a"
             ],
             [
              0.8888888888888888,
              "#fdca26"
             ],
             [
              1,
              "#f0f921"
             ]
            ],
            "type": "contour"
           }
          ],
          "contourcarpet": [
           {
            "colorbar": {
             "outlinewidth": 0,
             "ticks": ""
            },
            "type": "contourcarpet"
           }
          ],
          "heatmap": [
           {
            "colorbar": {
             "outlinewidth": 0,
             "ticks": ""
            },
            "colorscale": [
             [
              0,
              "#0d0887"
             ],
             [
              0.1111111111111111,
              "#46039f"
             ],
             [
              0.2222222222222222,
              "#7201a8"
             ],
             [
              0.3333333333333333,
              "#9c179e"
             ],
             [
              0.4444444444444444,
              "#bd3786"
             ],
             [
              0.5555555555555556,
              "#d8576b"
             ],
             [
              0.6666666666666666,
              "#ed7953"
             ],
             [
              0.7777777777777778,
              "#fb9f3a"
             ],
             [
              0.8888888888888888,
              "#fdca26"
             ],
             [
              1,
              "#f0f921"
             ]
            ],
            "type": "heatmap"
           }
          ],
          "heatmapgl": [
           {
            "colorbar": {
             "outlinewidth": 0,
             "ticks": ""
            },
            "colorscale": [
             [
              0,
              "#0d0887"
             ],
             [
              0.1111111111111111,
              "#46039f"
             ],
             [
              0.2222222222222222,
              "#7201a8"
             ],
             [
              0.3333333333333333,
              "#9c179e"
             ],
             [
              0.4444444444444444,
              "#bd3786"
             ],
             [
              0.5555555555555556,
              "#d8576b"
             ],
             [
              0.6666666666666666,
              "#ed7953"
             ],
             [
              0.7777777777777778,
              "#fb9f3a"
             ],
             [
              0.8888888888888888,
              "#fdca26"
             ],
             [
              1,
              "#f0f921"
             ]
            ],
            "type": "heatmapgl"
           }
          ],
          "histogram": [
           {
            "marker": {
             "pattern": {
              "fillmode": "overlay",
              "size": 10,
              "solidity": 0.2
             }
            },
            "type": "histogram"
           }
          ],
          "histogram2d": [
           {
            "colorbar": {
             "outlinewidth": 0,
             "ticks": ""
            },
            "colorscale": [
             [
              0,
              "#0d0887"
             ],
             [
              0.1111111111111111,
              "#46039f"
             ],
             [
              0.2222222222222222,
              "#7201a8"
             ],
             [
              0.3333333333333333,
              "#9c179e"
             ],
             [
              0.4444444444444444,
              "#bd3786"
             ],
             [
              0.5555555555555556,
              "#d8576b"
             ],
             [
              0.6666666666666666,
              "#ed7953"
             ],
             [
              0.7777777777777778,
              "#fb9f3a"
             ],
             [
              0.8888888888888888,
              "#fdca26"
             ],
             [
              1,
              "#f0f921"
             ]
            ],
            "type": "histogram2d"
           }
          ],
          "histogram2dcontour": [
           {
            "colorbar": {
             "outlinewidth": 0,
             "ticks": ""
            },
            "colorscale": [
             [
              0,
              "#0d0887"
             ],
             [
              0.1111111111111111,
              "#46039f"
             ],
             [
              0.2222222222222222,
              "#7201a8"
             ],
             [
              0.3333333333333333,
              "#9c179e"
             ],
             [
              0.4444444444444444,
              "#bd3786"
             ],
             [
              0.5555555555555556,
              "#d8576b"
             ],
             [
              0.6666666666666666,
              "#ed7953"
             ],
             [
              0.7777777777777778,
              "#fb9f3a"
             ],
             [
              0.8888888888888888,
              "#fdca26"
             ],
             [
              1,
              "#f0f921"
             ]
            ],
            "type": "histogram2dcontour"
           }
          ],
          "mesh3d": [
           {
            "colorbar": {
             "outlinewidth": 0,
             "ticks": ""
            },
            "type": "mesh3d"
           }
          ],
          "parcoords": [
           {
            "line": {
             "colorbar": {
              "outlinewidth": 0,
              "ticks": ""
             }
            },
            "type": "parcoords"
           }
          ],
          "pie": [
           {
            "automargin": true,
            "type": "pie"
           }
          ],
          "scatter": [
           {
            "fillpattern": {
             "fillmode": "overlay",
             "size": 10,
             "solidity": 0.2
            },
            "type": "scatter"
           }
          ],
          "scatter3d": [
           {
            "line": {
             "colorbar": {
              "outlinewidth": 0,
              "ticks": ""
             }
            },
            "marker": {
             "colorbar": {
              "outlinewidth": 0,
              "ticks": ""
             }
            },
            "type": "scatter3d"
           }
          ],
          "scattercarpet": [
           {
            "marker": {
             "colorbar": {
              "outlinewidth": 0,
              "ticks": ""
             }
            },
            "type": "scattercarpet"
           }
          ],
          "scattergeo": [
           {
            "marker": {
             "colorbar": {
              "outlinewidth": 0,
              "ticks": ""
             }
            },
            "type": "scattergeo"
           }
          ],
          "scattergl": [
           {
            "marker": {
             "colorbar": {
              "outlinewidth": 0,
              "ticks": ""
             }
            },
            "type": "scattergl"
           }
          ],
          "scattermapbox": [
           {
            "marker": {
             "colorbar": {
              "outlinewidth": 0,
              "ticks": ""
             }
            },
            "type": "scattermapbox"
           }
          ],
          "scatterpolar": [
           {
            "marker": {
             "colorbar": {
              "outlinewidth": 0,
              "ticks": ""
             }
            },
            "type": "scatterpolar"
           }
          ],
          "scatterpolargl": [
           {
            "marker": {
             "colorbar": {
              "outlinewidth": 0,
              "ticks": ""
             }
            },
            "type": "scatterpolargl"
           }
          ],
          "scatterternary": [
           {
            "marker": {
             "colorbar": {
              "outlinewidth": 0,
              "ticks": ""
             }
            },
            "type": "scatterternary"
           }
          ],
          "surface": [
           {
            "colorbar": {
             "outlinewidth": 0,
             "ticks": ""
            },
            "colorscale": [
             [
              0,
              "#0d0887"
             ],
             [
              0.1111111111111111,
              "#46039f"
             ],
             [
              0.2222222222222222,
              "#7201a8"
             ],
             [
              0.3333333333333333,
              "#9c179e"
             ],
             [
              0.4444444444444444,
              "#bd3786"
             ],
             [
              0.5555555555555556,
              "#d8576b"
             ],
             [
              0.6666666666666666,
              "#ed7953"
             ],
             [
              0.7777777777777778,
              "#fb9f3a"
             ],
             [
              0.8888888888888888,
              "#fdca26"
             ],
             [
              1,
              "#f0f921"
             ]
            ],
            "type": "surface"
           }
          ],
          "table": [
           {
            "cells": {
             "fill": {
              "color": "#EBF0F8"
             },
             "line": {
              "color": "white"
             }
            },
            "header": {
             "fill": {
              "color": "#C8D4E3"
             },
             "line": {
              "color": "white"
             }
            },
            "type": "table"
           }
          ]
         },
         "layout": {
          "annotationdefaults": {
           "arrowcolor": "#2a3f5f",
           "arrowhead": 0,
           "arrowwidth": 1
          },
          "autotypenumbers": "strict",
          "coloraxis": {
           "colorbar": {
            "outlinewidth": 0,
            "ticks": ""
           }
          },
          "colorscale": {
           "diverging": [
            [
             0,
             "#8e0152"
            ],
            [
             0.1,
             "#c51b7d"
            ],
            [
             0.2,
             "#de77ae"
            ],
            [
             0.3,
             "#f1b6da"
            ],
            [
             0.4,
             "#fde0ef"
            ],
            [
             0.5,
             "#f7f7f7"
            ],
            [
             0.6,
             "#e6f5d0"
            ],
            [
             0.7,
             "#b8e186"
            ],
            [
             0.8,
             "#7fbc41"
            ],
            [
             0.9,
             "#4d9221"
            ],
            [
             1,
             "#276419"
            ]
           ],
           "sequential": [
            [
             0,
             "#0d0887"
            ],
            [
             0.1111111111111111,
             "#46039f"
            ],
            [
             0.2222222222222222,
             "#7201a8"
            ],
            [
             0.3333333333333333,
             "#9c179e"
            ],
            [
             0.4444444444444444,
             "#bd3786"
            ],
            [
             0.5555555555555556,
             "#d8576b"
            ],
            [
             0.6666666666666666,
             "#ed7953"
            ],
            [
             0.7777777777777778,
             "#fb9f3a"
            ],
            [
             0.8888888888888888,
             "#fdca26"
            ],
            [
             1,
             "#f0f921"
            ]
           ],
           "sequentialminus": [
            [
             0,
             "#0d0887"
            ],
            [
             0.1111111111111111,
             "#46039f"
            ],
            [
             0.2222222222222222,
             "#7201a8"
            ],
            [
             0.3333333333333333,
             "#9c179e"
            ],
            [
             0.4444444444444444,
             "#bd3786"
            ],
            [
             0.5555555555555556,
             "#d8576b"
            ],
            [
             0.6666666666666666,
             "#ed7953"
            ],
            [
             0.7777777777777778,
             "#fb9f3a"
            ],
            [
             0.8888888888888888,
             "#fdca26"
            ],
            [
             1,
             "#f0f921"
            ]
           ]
          },
          "colorway": [
           "#636efa",
           "#EF553B",
           "#00cc96",
           "#ab63fa",
           "#FFA15A",
           "#19d3f3",
           "#FF6692",
           "#B6E880",
           "#FF97FF",
           "#FECB52"
          ],
          "font": {
           "color": "#2a3f5f"
          },
          "geo": {
           "bgcolor": "white",
           "lakecolor": "white",
           "landcolor": "#E5ECF6",
           "showlakes": true,
           "showland": true,
           "subunitcolor": "white"
          },
          "hoverlabel": {
           "align": "left"
          },
          "hovermode": "closest",
          "mapbox": {
           "style": "light"
          },
          "paper_bgcolor": "white",
          "plot_bgcolor": "#E5ECF6",
          "polar": {
           "angularaxis": {
            "gridcolor": "white",
            "linecolor": "white",
            "ticks": ""
           },
           "bgcolor": "#E5ECF6",
           "radialaxis": {
            "gridcolor": "white",
            "linecolor": "white",
            "ticks": ""
           }
          },
          "scene": {
           "xaxis": {
            "backgroundcolor": "#E5ECF6",
            "gridcolor": "white",
            "gridwidth": 2,
            "linecolor": "white",
            "showbackground": true,
            "ticks": "",
            "zerolinecolor": "white"
           },
           "yaxis": {
            "backgroundcolor": "#E5ECF6",
            "gridcolor": "white",
            "gridwidth": 2,
            "linecolor": "white",
            "showbackground": true,
            "ticks": "",
            "zerolinecolor": "white"
           },
           "zaxis": {
            "backgroundcolor": "#E5ECF6",
            "gridcolor": "white",
            "gridwidth": 2,
            "linecolor": "white",
            "showbackground": true,
            "ticks": "",
            "zerolinecolor": "white"
           }
          },
          "shapedefaults": {
           "line": {
            "color": "#2a3f5f"
           }
          },
          "ternary": {
           "aaxis": {
            "gridcolor": "white",
            "linecolor": "white",
            "ticks": ""
           },
           "baxis": {
            "gridcolor": "white",
            "linecolor": "white",
            "ticks": ""
           },
           "bgcolor": "#E5ECF6",
           "caxis": {
            "gridcolor": "white",
            "linecolor": "white",
            "ticks": ""
           }
          },
          "title": {
           "x": 0.05
          },
          "xaxis": {
           "automargin": true,
           "gridcolor": "white",
           "linecolor": "white",
           "ticks": "",
           "title": {
            "standoff": 15
           },
           "zerolinecolor": "white",
           "zerolinewidth": 2
          },
          "yaxis": {
           "automargin": true,
           "gridcolor": "white",
           "linecolor": "white",
           "ticks": "",
           "title": {
            "standoff": 15
           },
           "zerolinecolor": "white",
           "zerolinewidth": 2
          }
         }
        },
        "width": 1000
       }
      },
      "text/html": [
       "<div>                            <div id=\"f42757a7-0885-4542-ae4f-55e014e00734\" class=\"plotly-graph-div\" style=\"height:1000px; width:1000px;\"></div>            <script type=\"text/javascript\">                require([\"plotly\"], function(Plotly) {                    window.PLOTLYENV=window.PLOTLYENV || {};                                    if (document.getElementById(\"f42757a7-0885-4542-ae4f-55e014e00734\")) {                    Plotly.newPlot(                        \"f42757a7-0885-4542-ae4f-55e014e00734\",                        [{\"hoverinfo\":[\"name\"],\"lat\":[45.55736880441413],\"lon\":[18.69991741658569],\"marker\":{\"color\":[\"purple\"],\"size\":10},\"mode\":\"markers\",\"name\":\"Vrtic #1_cycling_20\",\"type\":\"scattermapbox\"},{\"hoverinfo\":[\"name\"],\"lat\":[45.548479071373],\"lon\":[18.695157105724466],\"marker\":{\"color\":[\"blue\"],\"size\":10},\"mode\":\"markers\",\"name\":\"Gradski bazeni_cycling_20\",\"type\":\"scattermapbox\"},{\"hoverinfo\":[\"name\"],\"lat\":[45.558640523748124],\"lon\":[18.684874812162008],\"marker\":{\"color\":[\"orange\"],\"size\":10},\"mode\":\"markers\",\"name\":\"Fakultet primijenjene matematike i informatike_cycling_20\",\"type\":\"scattermapbox\"},{\"hoverinfo\":[\"name\"],\"lat\":[45.5581167333811,45.55794614458108,45.557601400389466,45.55737059588567,45.55692727100873,45.555661390497804,45.554838940401766,45.55474133224361,45.55453264726456,45.55410181131148,45.55317281005376,45.55215627659018,45.550903931595556,45.546014565341316],\"lon\":[18.682742808422585,18.68336290829464,18.68418072367243,18.685111197383105,18.686970840869655,18.691948963894777,18.69519761843501,18.697770728068676,18.704750257362193,18.71560409883954,18.720545528698143,18.726717509257885,18.73328017705442,18.742109382319025],\"marker\":{\"color\":[\"cadetblue\",\"cadetblue\",\"cadetblue\",\"cadetblue\",\"cadetblue\",\"cadetblue\",\"cadetblue\",\"cadetblue\",\"cadetblue\",\"cadetblue\",\"cadetblue\",\"cadetblue\",\"cadetblue\",\"cadetblue\"],\"size\":10},\"mode\":\"markers\",\"name\":\"Vukovarska cesta_0.005\",\"type\":\"scattermapbox\"},{\"fill\":\"toself\",\"hoverinfo\":[\"name\"],\"lat\":[45.553013,45.553007,45.553844,45.553839,45.553488,45.552493,45.552178,45.551321,45.551335,45.550324,45.550065,45.548641,45.547393,45.546978,45.54499,45.544641,45.54391,45.542641,45.54126932234144,45.54142411137589,45.54164047100941,45.54614244804291,45.54723303355206,45.54823927713172,45.548258896973195,45.549120264498114,45.54953561166426,45.549743565708084,45.54974492582317,45.54984253398133,45.549889930358084,45.54999186062654,45.55081431072258,45.55081560735913,45.55207225422662,45.55250689066585,45.55251766553205,45.552748470035844,45.5528568630078,45.55299403163328,45.5532118858595,45.553295828350045,45.55344903517875,45.55364719449276,45.55388839790957,45.55417032250841,45.55449025320128,45.55484510888072,45.55523147209255,45.55564562194783,45.55608356995707,45.556541098441514,45.557013801151754,45.55749712570229,45.55798641741349,45.55847696413869,45.55896404164477,45.55944295910909,45.55990910429466,45.56035798796852,45.560785287135516,45.56118688667107,45.56155891895212,45.56189780110444,45.56220026950764,45.56246341122566,45.5626846920599,45.56286198095495,45.562993570521854,45.56307819348115,45.563115034867465,45.563103739878116,45.56304441729003,45.56293763841215,45.562767049612134,45.562553513337264,45.562360369361734,45.56222901466589,45.56179097622855,45.56177305414741,45.560507823301116,45.559815368452895,45.55973849917787,45.55953041380008,45.55952871281404,45.55909787686097,45.55901572439205,45.55809716167951,45.55708980951222,45.55706765096211,45.555815305967485,45.55568897916166,45.55550921666573,45.555278025927464,45.553867763602376,45.553013],\"line\":{\"color\":\"gray\"},\"lon\":[18.737875,18.735875,18.734875,18.733875,18.733722,18.734727,18.736413,18.736875,18.737875,18.738875,18.740299,18.740527,18.741627,18.743213,18.744875,18.746607,18.742606,18.742153,18.740540677138185,18.74012753157003,18.73968713155258,18.731557472766873,18.7258424737602,18.719732969219,18.71962170066399,18.71504001988426,18.704576379913536,18.69762129695937,18.69758119474226,18.695008085108594,18.694485368768444,18.69397050081531,18.69072184627508,18.690716735923615,18.685774924550806,18.683951727014918,18.68390742540184,18.682976951691167,18.682602951498133,18.682238520504747,18.681721718363768,18.68141658269459,18.680950437509022,18.68050155383516,18.68007425466817,18.679672655132613,18.679300622851557,18.67896174069924,18.678659272296038,18.678396130578026,18.67817484974379,18.67799756084873,18.677865971281825,18.677781348322537,18.67774450693622,18.677755801925567,18.677815124513657,18.677921903391535,18.678075110220234,18.678273269534248,18.678514472951054,18.678796397549895,18.679116328242767,18.679471183922207,18.679857547134038,18.680271696989323,18.680709644998554,18.681167173483,18.68163987619324,18.682123200743778,18.682612492454975,18.683103039180175,18.68359011668626,18.68406903415058,18.684689134022634,18.685305111462323,18.68576329500002,18.686292843120828,18.688130311237842,18.688203068840817,18.69317863703517,18.69591381403548,18.697940213015183,18.7048996884715,18.704948572831157,18.715802414308502,18.71652792687369,18.72141383329954,18.72753006873703,18.727654740167953,18.73421740796449,18.734730459713116,18.73522731583283,18.73570242782087,18.738249075974778,18.737875],\"mode\":\"lines\",\"name\":\"Final\",\"type\":\"scattermapbox\"}],                        {\"template\":{\"data\":{\"histogram2dcontour\":[{\"type\":\"histogram2dcontour\",\"colorbar\":{\"outlinewidth\":0,\"ticks\":\"\"},\"colorscale\":[[0.0,\"#0d0887\"],[0.1111111111111111,\"#46039f\"],[0.2222222222222222,\"#7201a8\"],[0.3333333333333333,\"#9c179e\"],[0.4444444444444444,\"#bd3786\"],[0.5555555555555556,\"#d8576b\"],[0.6666666666666666,\"#ed7953\"],[0.7777777777777778,\"#fb9f3a\"],[0.8888888888888888,\"#fdca26\"],[1.0,\"#f0f921\"]]}],\"choropleth\":[{\"type\":\"choropleth\",\"colorbar\":{\"outlinewidth\":0,\"ticks\":\"\"}}],\"histogram2d\":[{\"type\":\"histogram2d\",\"colorbar\":{\"outlinewidth\":0,\"ticks\":\"\"},\"colorscale\":[[0.0,\"#0d0887\"],[0.1111111111111111,\"#46039f\"],[0.2222222222222222,\"#7201a8\"],[0.3333333333333333,\"#9c179e\"],[0.4444444444444444,\"#bd3786\"],[0.5555555555555556,\"#d8576b\"],[0.6666666666666666,\"#ed7953\"],[0.7777777777777778,\"#fb9f3a\"],[0.8888888888888888,\"#fdca26\"],[1.0,\"#f0f921\"]]}],\"heatmap\":[{\"type\":\"heatmap\",\"colorbar\":{\"outlinewidth\":0,\"ticks\":\"\"},\"colorscale\":[[0.0,\"#0d0887\"],[0.1111111111111111,\"#46039f\"],[0.2222222222222222,\"#7201a8\"],[0.3333333333333333,\"#9c179e\"],[0.4444444444444444,\"#bd3786\"],[0.5555555555555556,\"#d8576b\"],[0.6666666666666666,\"#ed7953\"],[0.7777777777777778,\"#fb9f3a\"],[0.8888888888888888,\"#fdca26\"],[1.0,\"#f0f921\"]]}],\"heatmapgl\":[{\"type\":\"heatmapgl\",\"colorbar\":{\"outlinewidth\":0,\"ticks\":\"\"},\"colorscale\":[[0.0,\"#0d0887\"],[0.1111111111111111,\"#46039f\"],[0.2222222222222222,\"#7201a8\"],[0.3333333333333333,\"#9c179e\"],[0.4444444444444444,\"#bd3786\"],[0.5555555555555556,\"#d8576b\"],[0.6666666666666666,\"#ed7953\"],[0.7777777777777778,\"#fb9f3a\"],[0.8888888888888888,\"#fdca26\"],[1.0,\"#f0f921\"]]}],\"contourcarpet\":[{\"type\":\"contourcarpet\",\"colorbar\":{\"outlinewidth\":0,\"ticks\":\"\"}}],\"contour\":[{\"type\":\"contour\",\"colorbar\":{\"outlinewidth\":0,\"ticks\":\"\"},\"colorscale\":[[0.0,\"#0d0887\"],[0.1111111111111111,\"#46039f\"],[0.2222222222222222,\"#7201a8\"],[0.3333333333333333,\"#9c179e\"],[0.4444444444444444,\"#bd3786\"],[0.5555555555555556,\"#d8576b\"],[0.6666666666666666,\"#ed7953\"],[0.7777777777777778,\"#fb9f3a\"],[0.8888888888888888,\"#fdca26\"],[1.0,\"#f0f921\"]]}],\"surface\":[{\"type\":\"surface\",\"colorbar\":{\"outlinewidth\":0,\"ticks\":\"\"},\"colorscale\":[[0.0,\"#0d0887\"],[0.1111111111111111,\"#46039f\"],[0.2222222222222222,\"#7201a8\"],[0.3333333333333333,\"#9c179e\"],[0.4444444444444444,\"#bd3786\"],[0.5555555555555556,\"#d8576b\"],[0.6666666666666666,\"#ed7953\"],[0.7777777777777778,\"#fb9f3a\"],[0.8888888888888888,\"#fdca26\"],[1.0,\"#f0f921\"]]}],\"mesh3d\":[{\"type\":\"mesh3d\",\"colorbar\":{\"outlinewidth\":0,\"ticks\":\"\"}}],\"scatter\":[{\"fillpattern\":{\"fillmode\":\"overlay\",\"size\":10,\"solidity\":0.2},\"type\":\"scatter\"}],\"parcoords\":[{\"type\":\"parcoords\",\"line\":{\"colorbar\":{\"outlinewidth\":0,\"ticks\":\"\"}}}],\"scatterpolargl\":[{\"type\":\"scatterpolargl\",\"marker\":{\"colorbar\":{\"outlinewidth\":0,\"ticks\":\"\"}}}],\"bar\":[{\"error_x\":{\"color\":\"#2a3f5f\"},\"error_y\":{\"color\":\"#2a3f5f\"},\"marker\":{\"line\":{\"color\":\"#E5ECF6\",\"width\":0.5},\"pattern\":{\"fillmode\":\"overlay\",\"size\":10,\"solidity\":0.2}},\"type\":\"bar\"}],\"scattergeo\":[{\"type\":\"scattergeo\",\"marker\":{\"colorbar\":{\"outlinewidth\":0,\"ticks\":\"\"}}}],\"scatterpolar\":[{\"type\":\"scatterpolar\",\"marker\":{\"colorbar\":{\"outlinewidth\":0,\"ticks\":\"\"}}}],\"histogram\":[{\"marker\":{\"pattern\":{\"fillmode\":\"overlay\",\"size\":10,\"solidity\":0.2}},\"type\":\"histogram\"}],\"scattergl\":[{\"type\":\"scattergl\",\"marker\":{\"colorbar\":{\"outlinewidth\":0,\"ticks\":\"\"}}}],\"scatter3d\":[{\"type\":\"scatter3d\",\"line\":{\"colorbar\":{\"outlinewidth\":0,\"ticks\":\"\"}},\"marker\":{\"colorbar\":{\"outlinewidth\":0,\"ticks\":\"\"}}}],\"scattermapbox\":[{\"type\":\"scattermapbox\",\"marker\":{\"colorbar\":{\"outlinewidth\":0,\"ticks\":\"\"}}}],\"scatterternary\":[{\"type\":\"scatterternary\",\"marker\":{\"colorbar\":{\"outlinewidth\":0,\"ticks\":\"\"}}}],\"scattercarpet\":[{\"type\":\"scattercarpet\",\"marker\":{\"colorbar\":{\"outlinewidth\":0,\"ticks\":\"\"}}}],\"carpet\":[{\"aaxis\":{\"endlinecolor\":\"#2a3f5f\",\"gridcolor\":\"white\",\"linecolor\":\"white\",\"minorgridcolor\":\"white\",\"startlinecolor\":\"#2a3f5f\"},\"baxis\":{\"endlinecolor\":\"#2a3f5f\",\"gridcolor\":\"white\",\"linecolor\":\"white\",\"minorgridcolor\":\"white\",\"startlinecolor\":\"#2a3f5f\"},\"type\":\"carpet\"}],\"table\":[{\"cells\":{\"fill\":{\"color\":\"#EBF0F8\"},\"line\":{\"color\":\"white\"}},\"header\":{\"fill\":{\"color\":\"#C8D4E3\"},\"line\":{\"color\":\"white\"}},\"type\":\"table\"}],\"barpolar\":[{\"marker\":{\"line\":{\"color\":\"#E5ECF6\",\"width\":0.5},\"pattern\":{\"fillmode\":\"overlay\",\"size\":10,\"solidity\":0.2}},\"type\":\"barpolar\"}],\"pie\":[{\"automargin\":true,\"type\":\"pie\"}]},\"layout\":{\"autotypenumbers\":\"strict\",\"colorway\":[\"#636efa\",\"#EF553B\",\"#00cc96\",\"#ab63fa\",\"#FFA15A\",\"#19d3f3\",\"#FF6692\",\"#B6E880\",\"#FF97FF\",\"#FECB52\"],\"font\":{\"color\":\"#2a3f5f\"},\"hovermode\":\"closest\",\"hoverlabel\":{\"align\":\"left\"},\"paper_bgcolor\":\"white\",\"plot_bgcolor\":\"#E5ECF6\",\"polar\":{\"bgcolor\":\"#E5ECF6\",\"angularaxis\":{\"gridcolor\":\"white\",\"linecolor\":\"white\",\"ticks\":\"\"},\"radialaxis\":{\"gridcolor\":\"white\",\"linecolor\":\"white\",\"ticks\":\"\"}},\"ternary\":{\"bgcolor\":\"#E5ECF6\",\"aaxis\":{\"gridcolor\":\"white\",\"linecolor\":\"white\",\"ticks\":\"\"},\"baxis\":{\"gridcolor\":\"white\",\"linecolor\":\"white\",\"ticks\":\"\"},\"caxis\":{\"gridcolor\":\"white\",\"linecolor\":\"white\",\"ticks\":\"\"}},\"coloraxis\":{\"colorbar\":{\"outlinewidth\":0,\"ticks\":\"\"}},\"colorscale\":{\"sequential\":[[0.0,\"#0d0887\"],[0.1111111111111111,\"#46039f\"],[0.2222222222222222,\"#7201a8\"],[0.3333333333333333,\"#9c179e\"],[0.4444444444444444,\"#bd3786\"],[0.5555555555555556,\"#d8576b\"],[0.6666666666666666,\"#ed7953\"],[0.7777777777777778,\"#fb9f3a\"],[0.8888888888888888,\"#fdca26\"],[1.0,\"#f0f921\"]],\"sequentialminus\":[[0.0,\"#0d0887\"],[0.1111111111111111,\"#46039f\"],[0.2222222222222222,\"#7201a8\"],[0.3333333333333333,\"#9c179e\"],[0.4444444444444444,\"#bd3786\"],[0.5555555555555556,\"#d8576b\"],[0.6666666666666666,\"#ed7953\"],[0.7777777777777778,\"#fb9f3a\"],[0.8888888888888888,\"#fdca26\"],[1.0,\"#f0f921\"]],\"diverging\":[[0,\"#8e0152\"],[0.1,\"#c51b7d\"],[0.2,\"#de77ae\"],[0.3,\"#f1b6da\"],[0.4,\"#fde0ef\"],[0.5,\"#f7f7f7\"],[0.6,\"#e6f5d0\"],[0.7,\"#b8e186\"],[0.8,\"#7fbc41\"],[0.9,\"#4d9221\"],[1,\"#276419\"]]},\"xaxis\":{\"gridcolor\":\"white\",\"linecolor\":\"white\",\"ticks\":\"\",\"title\":{\"standoff\":15},\"zerolinecolor\":\"white\",\"automargin\":true,\"zerolinewidth\":2},\"yaxis\":{\"gridcolor\":\"white\",\"linecolor\":\"white\",\"ticks\":\"\",\"title\":{\"standoff\":15},\"zerolinecolor\":\"white\",\"automargin\":true,\"zerolinewidth\":2},\"scene\":{\"xaxis\":{\"backgroundcolor\":\"#E5ECF6\",\"gridcolor\":\"white\",\"linecolor\":\"white\",\"showbackground\":true,\"ticks\":\"\",\"zerolinecolor\":\"white\",\"gridwidth\":2},\"yaxis\":{\"backgroundcolor\":\"#E5ECF6\",\"gridcolor\":\"white\",\"linecolor\":\"white\",\"showbackground\":true,\"ticks\":\"\",\"zerolinecolor\":\"white\",\"gridwidth\":2},\"zaxis\":{\"backgroundcolor\":\"#E5ECF6\",\"gridcolor\":\"white\",\"linecolor\":\"white\",\"showbackground\":true,\"ticks\":\"\",\"zerolinecolor\":\"white\",\"gridwidth\":2}},\"shapedefaults\":{\"line\":{\"color\":\"#2a3f5f\"}},\"annotationdefaults\":{\"arrowcolor\":\"#2a3f5f\",\"arrowhead\":0,\"arrowwidth\":1},\"geo\":{\"bgcolor\":\"white\",\"landcolor\":\"#E5ECF6\",\"subunitcolor\":\"white\",\"showland\":true,\"showlakes\":true,\"lakecolor\":\"white\"},\"title\":{\"x\":0.05},\"mapbox\":{\"style\":\"light\"}}},\"mapbox\":{\"center\":{\"lat\":45.55854878748722,\"lon\":18.684848674241845},\"accesstoken\":\"pk.eyJ1IjoiYmVuamFtaW5tZXNpYyIsImEiOiJja3ZucDRjcDQwdG1nMzNxZnJ6cHd2ZzNzIn0.uWSETefP3q7BrtrZ7B1a-g\",\"style\":\"open-street-map\",\"zoom\":12},\"margin\":{\"r\":0,\"t\":0,\"l\":0,\"b\":0},\"showlegend\":false,\"width\":1000,\"height\":1000},                        {\"responsive\": true}                    ).then(function(){\n",
       "                            \n",
       "var gd = document.getElementById('f42757a7-0885-4542-ae4f-55e014e00734');\n",
       "var x = new MutationObserver(function (mutations, observer) {{\n",
       "        var display = window.getComputedStyle(gd).display;\n",
       "        if (!display || display === 'none') {{\n",
       "            console.log([gd, 'removed!']);\n",
       "            Plotly.purge(gd);\n",
       "            observer.disconnect();\n",
       "        }}\n",
       "}});\n",
       "\n",
       "// Listen for the removal of the full notebook cells\n",
       "var notebookContainer = gd.closest('#notebook-container');\n",
       "if (notebookContainer) {{\n",
       "    x.observe(notebookContainer, {childList: true});\n",
       "}}\n",
       "\n",
       "// Listen for the clearing of the current output cell\n",
       "var outputEl = gd.closest('.output');\n",
       "if (outputEl) {{\n",
       "    x.observe(outputEl, {childList: true});\n",
       "}}\n",
       "\n",
       "                        })                };                });            </script>        </div>"
      ]
     },
     "metadata": {},
     "output_type": "display_data"
    }
   ],
   "source": [
    "visualization.draw_map(map)"
   ]
  },
  {
   "cell_type": "code",
   "execution_count": null,
   "id": "839c5cd1",
   "metadata": {},
   "outputs": [],
   "source": []
  }
 ],
 "metadata": {
  "kernelspec": {
   "display_name": "Python 3 (ipykernel)",
   "language": "python",
   "name": "python3"
  },
  "language_info": {
   "codemirror_mode": {
    "name": "ipython",
    "version": 3
   },
   "file_extension": ".py",
   "mimetype": "text/x-python",
   "name": "python",
   "nbconvert_exporter": "python",
   "pygments_lexer": "ipython3",
   "version": "3.9.6"
  }
 },
 "nbformat": 4,
 "nbformat_minor": 5
}
