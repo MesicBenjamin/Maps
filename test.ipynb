{
 "cells": [
  {
   "cell_type": "code",
   "execution_count": 3,
   "id": "a2834d75",
   "metadata": {},
   "outputs": [],
   "source": [
    "import plotly.graph_objects as go\n",
    "import shapely\n",
    "\n",
    "from src import mapbox\n",
    "from src import data_handler\n",
    "from src import visualization\n",
    "\n",
    "%load_ext autoreload\n",
    "%autoreload"
   ]
  },
  {
   "cell_type": "code",
   "execution_count": 381,
   "id": "452adab0",
   "metadata": {},
   "outputs": [
    {
     "data": {
      "application/vnd.plotly.v1+json": {
       "config": {
        "plotlyServerURL": "https://plot.ly"
       },
       "data": [
        {
         "hoverinfo": [
          "name"
         ],
         "hoverlabel": {
          "namelength": -1
         },
         "lat": [
          45.54221299193733
         ],
         "lon": [
          18.74559407809055
         ],
         "marker": {
          "color": [
           "black"
          ],
          "size": 10
         },
         "mode": "markers",
         "name": "HEP termoelektrana (Ul. Matina Divalta) | cycling | 20",
         "type": "scattermapbox"
        },
        {
         "hoverinfo": [
          "name"
         ],
         "hoverlabel": {
          "namelength": -1
         },
         "lat": [
          45.56068417072393
         ],
         "lon": [
          18.70122681607802
         ],
         "marker": {
          "color": [
           "black"
          ],
          "size": 10
         },
         "mode": "markers",
         "name": "HEP termoelektrana (Ul. Cara Hadrijana) | cycling | 20",
         "type": "scattermapbox"
        },
        {
         "hoverinfo": [
          "name"
         ],
         "hoverlabel": {
          "namelength": -1
         },
         "lat": [
          45.558640523748124,
          45.548479071373,
          45.55736880441413
         ],
         "lon": [
          18.684874812162008,
          18.695157105724466,
          18.69991741658569
         ],
         "marker": {
          "color": [
           "yellow",
           "yellow",
           "yellow"
          ],
          "size": 10
         },
         "mode": "markers",
         "name": "Test #001",
         "type": "scattermapbox"
        },
        {
         "hoverinfo": [
          "name"
         ],
         "hoverlabel": {
          "namelength": -1
         },
         "lat": [
          45.548479071373
         ],
         "lon": [
          18.695157105724466
         ],
         "marker": {
          "color": [
           "blue"
          ],
          "size": 10
         },
         "mode": "markers",
         "name": "Gradski bazeni | cycling | 20",
         "type": "scattermapbox"
        },
        {
         "hoverinfo": [
          "name"
         ],
         "hoverlabel": {
          "namelength": -1
         },
         "lat": [
          45.558640523748124
         ],
         "lon": [
          18.684874812162008
         ],
         "marker": {
          "color": [
           "orange"
          ],
          "size": 10
         },
         "mode": "markers",
         "name": "Fakultet primijenjene matematike i informatike | cycling | 20",
         "type": "scattermapbox"
        },
        {
         "hoverinfo": [
          "name"
         ],
         "hoverlabel": {
          "namelength": -1
         },
         "lat": [
          45.56451055317391
         ],
         "lon": [
          18.612095951840978
         ],
         "marker": {
          "color": [
           "purple"
          ],
          "size": 10
         },
         "mode": "markers",
         "name": "Djecji vrtic Visnjevac | walking | 20",
         "type": "scattermapbox"
        },
        {
         "hoverinfo": [
          "name"
         ],
         "hoverlabel": {
          "namelength": -1
         },
         "lat": [
          45.572139755029454
         ],
         "lon": [
          18.60089407365537
         ],
         "marker": {
          "color": [
           "purple"
          ],
          "size": 10
         },
         "mode": "markers",
         "name": "Djecji vrtic Josipovac | walking | 20",
         "type": "scattermapbox"
        },
        {
         "hoverinfo": [
          "name"
         ],
         "hoverlabel": {
          "namelength": -1
         },
         "lat": [
          45.563061312996865
         ],
         "lon": [
          18.648340755625007
         ],
         "marker": {
          "color": [
           "purple"
          ],
          "size": 10
         },
         "mode": "markers",
         "name": "Djecji vrtic Suncica | walking | 20",
         "type": "scattermapbox"
        },
        {
         "hoverinfo": [
          "name"
         ],
         "hoverlabel": {
          "namelength": -1
         },
         "lat": [
          45.56654018260058
         ],
         "lon": [
          18.645960125139453
         ],
         "marker": {
          "color": [
           "purple"
          ],
          "size": 10
         },
         "mode": "markers",
         "name": "Djecji vrtic Jelenko | walking | 20",
         "type": "scattermapbox"
        },
        {
         "hoverinfo": [
          "name"
         ],
         "hoverlabel": {
          "namelength": -1
         },
         "lat": [
          45.56352251396461
         ],
         "lon": [
          18.65846122244881
         ],
         "marker": {
          "color": [
           "purple"
          ],
          "size": 10
         },
         "mode": "markers",
         "name": "Djecji vrtic Cvrcak | walking | 20",
         "type": "scattermapbox"
        },
        {
         "hoverinfo": [
          "name"
         ],
         "hoverlabel": {
          "namelength": -1
         },
         "lat": [
          45.54530922942358
         ],
         "lon": [
          18.679180490698247
         ],
         "marker": {
          "color": [
           "purple"
          ],
          "size": 10
         },
         "mode": "markers",
         "name": "Djecji vrtic Pcelica | walking | 20",
         "type": "scattermapbox"
        },
        {
         "hoverinfo": [
          "name"
         ],
         "hoverlabel": {
          "namelength": -1
         },
         "lat": [
          45.545392212060754
         ],
         "lon": [
          18.679904262444772
         ],
         "marker": {
          "color": [
           "purple"
          ],
          "size": 10
         },
         "mode": "markers",
         "name": "Djecji vrtic Tratincica | walking | 20",
         "type": "scattermapbox"
        },
        {
         "hoverinfo": [
          "name"
         ],
         "hoverlabel": {
          "namelength": -1
         },
         "lat": [
          45.55653352850119
         ],
         "lon": [
          18.666018955226313
         ],
         "marker": {
          "color": [
           "purple"
          ],
          "size": 10
         },
         "mode": "markers",
         "name": "Djecji vrtic Potocnica | walking | 20",
         "type": "scattermapbox"
        },
        {
         "hoverinfo": [
          "name"
         ],
         "hoverlabel": {
          "namelength": -1
         },
         "lat": [
          45.55926244598175
         ],
         "lon": [
          18.680498625038428
         ],
         "marker": {
          "color": [
           "purple"
          ],
          "size": 10
         },
         "mode": "markers",
         "name": "Djecji vrtic Vedri dani | walking | 20",
         "type": "scattermapbox"
        },
        {
         "hoverinfo": [
          "name"
         ],
         "hoverlabel": {
          "namelength": -1
         },
         "lat": [
          45.5628593765151
         ],
         "lon": [
          18.66599144436665
         ],
         "marker": {
          "color": [
           "purple"
          ],
          "size": 10
         },
         "mode": "markers",
         "name": "Djecji vrtic Latica | walking | 20",
         "type": "scattermapbox"
        },
        {
         "hoverinfo": [
          "name"
         ],
         "hoverlabel": {
          "namelength": -1
         },
         "lat": [
          45.561656600246614
         ],
         "lon": [
          18.672021102935098
         ],
         "marker": {
          "color": [
           "purple"
          ],
          "size": 10
         },
         "mode": "markers",
         "name": "Djecji vrtic Bubamara | walking | 20",
         "type": "scattermapbox"
        },
        {
         "hoverinfo": [
          "name"
         ],
         "hoverlabel": {
          "namelength": -1
         },
         "lat": [
          45.55696569235974
         ],
         "lon": [
          18.6888354120746
         ],
         "marker": {
          "color": [
           "purple"
          ],
          "size": 10
         },
         "mode": "markers",
         "name": "Djecji vrtic Radost | walking | 20",
         "type": "scattermapbox"
        },
        {
         "hoverinfo": [
          "name"
         ],
         "hoverlabel": {
          "namelength": -1
         },
         "lat": [
          45.501318643645405
         ],
         "lon": [
          18.746427875691957
         ],
         "marker": {
          "color": [
           "purple"
          ],
          "size": 10
         },
         "mode": "markers",
         "name": "Djecji vrtic Vrapcic | walking | 20",
         "type": "scattermapbox"
        },
        {
         "hoverinfo": [
          "name"
         ],
         "hoverlabel": {
          "namelength": -1
         },
         "lat": [
          45.54396046126857
         ],
         "lon": [
          18.712611691390272
         ],
         "marker": {
          "color": [
           "purple"
          ],
          "size": 10
         },
         "mode": "markers",
         "name": "Djecji vrtic Maslacak | walking | 20",
         "type": "scattermapbox"
        },
        {
         "hoverinfo": [
          "name"
         ],
         "hoverlabel": {
          "namelength": -1
         },
         "lat": [
          45.54434241906588
         ],
         "lon": [
          18.721224704562648
         ],
         "marker": {
          "color": [
           "purple"
          ],
          "size": 10
         },
         "mode": "markers",
         "name": "Djecji vrtic Nevicica | walking | 20",
         "type": "scattermapbox"
        },
        {
         "hoverinfo": [
          "name"
         ],
         "hoverlabel": {
          "namelength": -1
         },
         "lat": [
          45.54776551606488
         ],
         "lon": [
          18.712096996128576
         ],
         "marker": {
          "color": [
           "purple"
          ],
          "size": 10
         },
         "mode": "markers",
         "name": "Djecji vrtic Krijesnica | walking | 20",
         "type": "scattermapbox"
        },
        {
         "hoverinfo": [
          "name"
         ],
         "hoverlabel": {
          "namelength": -1
         },
         "lat": [
          45.547101212695935
         ],
         "lon": [
          18.70664125722545
         ],
         "marker": {
          "color": [
           "purple"
          ],
          "size": 10
         },
         "mode": "markers",
         "name": "Djecji vrtic Kosjenka | walking | 20",
         "type": "scattermapbox"
        },
        {
         "hoverinfo": [
          "name"
         ],
         "hoverlabel": {
          "namelength": -1
         },
         "lat": [
          45.55313518900148
         ],
         "lon": [
          18.707892035759176
         ],
         "marker": {
          "color": [
           "purple"
          ],
          "size": 10
         },
         "mode": "markers",
         "name": "Djecji vrtic Jabuka | walking | 20",
         "type": "scattermapbox"
        },
        {
         "hoverinfo": [
          "name"
         ],
         "hoverlabel": {
          "namelength": -1
         },
         "lat": [
          45.5553447309436
         ],
         "lon": [
          18.71663225942634
         ],
         "marker": {
          "color": [
           "purple"
          ],
          "size": 10
         },
         "mode": "markers",
         "name": "Djecji vrtic Mak | walking | 20",
         "type": "scattermapbox"
        },
        {
         "hoverinfo": [
          "name"
         ],
         "hoverlabel": {
          "namelength": -1
         },
         "lat": [
          45.45665213270752
         ],
         "lon": [
          18.57543678345206
         ],
         "marker": {
          "color": [
           "purple"
          ],
          "size": 10
         },
         "mode": "markers",
         "name": "Djecji vrtic Vladislavci | walking | 20",
         "type": "scattermapbox"
        },
        {
         "hoverinfo": [
          "name"
         ],
         "hoverlabel": {
          "namelength": -1
         },
         "lat": [
          45.552355899286276
         ],
         "lon": [
          18.69996672570259
         ],
         "marker": {
          "color": [
           "purple"
          ],
          "size": 10
         },
         "mode": "markers",
         "name": "Djecji vrtic Sjencica | walking | 20",
         "type": "scattermapbox"
        },
        {
         "hoverinfo": [
          "name"
         ],
         "hoverlabel": {
          "namelength": -1
         },
         "lat": [
          45.55764815248771
         ],
         "lon": [
          18.700280620982035
         ],
         "marker": {
          "color": [
           "purple"
          ],
          "size": 10
         },
         "mode": "markers",
         "name": "Djecji vrtic Stribor | walking | 20",
         "type": "scattermapbox"
        },
        {
         "hoverinfo": [
          "name"
         ],
         "hoverlabel": {
          "namelength": -1
         },
         "lat": [
          45.56367506281198
         ],
         "lon": [
          18.709357031192766
         ],
         "marker": {
          "color": [
           "purple"
          ],
          "size": 10
         },
         "mode": "markers",
         "name": "Djecji vrtic Bambi | walking | 20",
         "type": "scattermapbox"
        },
        {
         "hoverinfo": [
          "name"
         ],
         "hoverlabel": {
          "namelength": -1
         },
         "lat": [
          45.524161929559476
         ],
         "lon": [
          18.842560695452182
         ],
         "marker": {
          "color": [
           "purple"
          ],
          "size": 10
         },
         "mode": "markers",
         "name": "Djecji vrtic Ribica | walking | 20",
         "type": "scattermapbox"
        },
        {
         "hoverinfo": [
          "name"
         ],
         "hoverlabel": {
          "namelength": -1
         },
         "lat": [
          45.556007656703
         ],
         "lon": [
          18.720821426971156
         ],
         "marker": {
          "color": [
           "purple"
          ],
          "size": 10
         },
         "mode": "markers",
         "name": "Djecji vrtic Ivancica | walking | 20",
         "type": "scattermapbox"
        },
        {
         "hoverinfo": [
          "name"
         ],
         "hoverlabel": {
          "namelength": -1
         },
         "lat": [
          45.55721832630263
         ],
         "lon": [
          18.730214578492454
         ],
         "marker": {
          "color": [
           "purple"
          ],
          "size": 10
         },
         "mode": "markers",
         "name": "Djecji vrtic Jaglenac | walking | 20",
         "type": "scattermapbox"
        },
        {
         "hoverinfo": [
          "name"
         ],
         "hoverlabel": {
          "namelength": -1
         },
         "lat": [
          45.551189511061054
         ],
         "lon": [
          18.68583048537
         ],
         "marker": {
          "color": [
           "purple"
          ],
          "size": 10
         },
         "mode": "markers",
         "name": "Djecji vrtic Mali princ (Dunavska) | walking | 20",
         "type": "scattermapbox"
        },
        {
         "hoverinfo": [
          "name"
         ],
         "hoverlabel": {
          "namelength": -1
         },
         "lat": [
          45.563467092904624
         ],
         "lon": [
          18.663932116481593
         ],
         "marker": {
          "color": [
           "purple"
          ],
          "size": 10
         },
         "mode": "markers",
         "name": "Djecji vrtic Mali princ (Paradzika) | walking | 20",
         "type": "scattermapbox"
        },
        {
         "hoverinfo": [
          "name"
         ],
         "hoverlabel": {
          "namelength": -1
         },
         "lat": [
          45.48838610138395
         ],
         "lon": [
          18.669618548850426
         ],
         "marker": {
          "color": [
           "purple"
          ],
          "size": 10
         },
         "mode": "markers",
         "name": "Djecji vrtic Mali princ (Antunovac) | walking | 20",
         "type": "scattermapbox"
        },
        {
         "hoverinfo": [
          "name"
         ],
         "hoverlabel": {
          "namelength": -1
         },
         "lat": [
          45.558553513972825
         ],
         "lon": [
          18.66703371269032
         ],
         "marker": {
          "color": [
           "purple"
          ],
          "size": 10
         },
         "mode": "markers",
         "name": "Djecji vrtic Lastavica | walking | 20",
         "type": "scattermapbox"
        },
        {
         "hoverinfo": [
          "name"
         ],
         "hoverlabel": {
          "namelength": -1
         },
         "lat": [
          45.563052071986455
         ],
         "lon": [
          18.672556140836427
         ],
         "marker": {
          "color": [
           "purple"
          ],
          "size": 10
         },
         "mode": "markers",
         "name": "Djecji vrtic Snjeguljica | walking | 20",
         "type": "scattermapbox"
        }
       ],
       "layout": {
        "height": 1000,
        "mapbox": {
         "accesstoken": "pk.eyJ1IjoiYmVuamFtaW5tZXNpYyIsImEiOiJja3ZucDRjcDQwdG1nMzNxZnJ6cHd2ZzNzIn0.uWSETefP3q7BrtrZ7B1a-g",
         "center": {
          "lat": 45.55854878748722,
          "lon": 18.684848674241845
         },
         "layers": [
          {
           "color": "gray",
           "opacity": 0.4,
           "source": {
            "coordinates": [
             [
              [
               [
                18.72334451114761,
                45.56679245962113
               ],
               [
                18.723307,
                45.566604
               ],
               [
                18.723170528827964,
                45.566602718033394
               ],
               [
                18.72334451114761,
                45.56679245962113
               ]
              ]
             ],
             [
              [
               [
                18.683904605546626,
                45.53971680561182
               ],
               [
                18.683875,
                45.539791
               ],
               [
                18.682099300639518,
                45.539778570104474
               ],
               [
                18.6821,
                45.539811
               ],
               [
                18.684227,
                45.539923
               ],
               [
                18.6842603195238,
                45.53977119445658
               ],
               [
                18.683904605546626,
                45.53971680561182
               ]
              ]
             ],
             [
              [
               [
                18.682316911262927,
                45.53954777330212
               ],
               [
                18.682094221060503,
                45.53954302603036
               ],
               [
                18.682096785821557,
                45.539661956017696
               ],
               [
                18.682316911262927,
                45.53954777330212
               ]
              ]
             ],
             [
              [
               [
                18.68118,
                45.534944
               ],
               [
                18.681178968837266,
                45.53494796997654
               ],
               [
                18.681181008235395,
                45.534945933176374
               ],
               [
                18.68118,
                45.534944
               ]
              ]
             ],
             [
              [
               [
                18.680187459824086,
                45.53715338941451
               ],
               [
                18.680157,
                45.537569
               ],
               [
                18.67989505102842,
                45.53756234654541
               ],
               [
                18.679875,
                45.537757
               ],
               [
                18.67909223738211,
                45.5377324030231
               ],
               [
                18.679114,
                45.537797
               ],
               [
                18.680227,
                45.537845
               ],
               [
                18.680328629106743,
                45.53682350930384
               ],
               [
                18.680187459824086,
                45.53715338941451
               ]
              ]
             ],
             [
              [
               [
                18.677596,
                45.535919
               ],
               [
                18.676875,
                45.53578
               ],
               [
                18.6765824478698,
                45.53583632236302
               ],
               [
                18.676565743917763,
                45.535921111420464
               ],
               [
                18.676456,
                45.535944
               ],
               [
                18.676261210386656,
                45.53661494200153
               ],
               [
                18.676157,
                45.537567
               ],
               [
                18.675903213345883,
                45.53756687310668
               ],
               [
                18.675875,
                45.537753
               ],
               [
                18.675115533517083,
                45.53775224053352
               ],
               [
                18.675125,
                45.537786
               ],
               [
                18.676227,
                45.53784
               ],
               [
                18.676639,
                45.536096
               ],
               [
                18.677227,
                45.53589
               ],
               [
                18.677661337559634,
                45.53619788821506
               ],
               [
                18.677596,
                45.535919
               ]
              ]
             ],
             [
              [
               [
                18.67364,
                45.536876
               ],
               [
                18.672762,
                45.536641
               ],
               [
                18.672763104300405,
                45.53654487985232
               ],
               [
                18.672124240362038,
                45.536484243054815
               ],
               [
                18.672128,
                45.536783
               ],
               [
                18.67364763810761,
                45.53690443976238
               ],
               [
                18.67364,
                45.536876
               ]
              ]
             ],
             [
              [
               [
                18.672149435272303,
                45.534555865762144
               ],
               [
                18.6721,
                45.534558
               ],
               [
                18.672111413172523,
                45.535464939602356
               ],
               [
                18.672149435272303,
                45.534555865762144
               ]
              ]
             ],
             [
              [
               [
                18.672378,
                45.535258
               ],
               [
                18.6727641788398,
                45.53525036275725
               ],
               [
                18.67277061008198,
                45.534529048173624
               ],
               [
                18.67220170288028,
                45.53455360924565
               ],
               [
                18.672378,
                45.535258
               ]
              ]
             ],
             [
              [
               [
                18.669875,
                45.533774
               ],
               [
                18.668919635251953,
                45.5338660562977
               ],
               [
                18.66886151037577,
                45.533919647433535
               ],
               [
                18.670227,
                45.533878
               ],
               [
                18.670229547533033,
                45.53383833127134
               ],
               [
                18.669875,
                45.533774
               ]
              ]
             ],
             [
              [
               [
                18.66612095896945,
                45.53477607979006
               ],
               [
                18.666227,
                45.53488
               ],
               [
                18.667361,
                45.534818
               ],
               [
                18.667407040704354,
                45.534771268153435
               ],
               [
                18.66612095896945,
                45.53477607979006
               ]
              ]
             ],
             [
              [
               [
                18.667490700690323,
                45.536671850555216
               ],
               [
                18.667599,
                45.53689
               ],
               [
                18.667705212444748,
                45.536906526414555
               ],
               [
                18.667904,
                45.537124
               ],
               [
                18.668492951934827,
                45.53716990689986
               ],
               [
                18.668227,
                45.536507
               ],
               [
                18.66733183210332,
                45.536498048321036
               ],
               [
                18.667490700690323,
                45.536671850555216
               ]
              ]
             ],
             [
              [
               [
                18.669461,
                45.538028
               ],
               [
                18.670262,
                45.538228
               ],
               [
                18.670403,
                45.539086
               ],
               [
                18.670999448906187,
                45.53919611364422
               ],
               [
                18.670989420851896,
                45.539894202969144
               ],
               [
                18.672355,
                45.539684
               ],
               [
                18.671502,
                45.539409
               ],
               [
                18.670328,
                45.537582
               ],
               [
                18.669276365779897,
                45.53744190133689
               ],
               [
                18.669461,
                45.538028
               ]
              ]
             ],
             [
              [
               [
                18.67038,
                45.540509
               ],
               [
                18.67032789609265,
                45.54155731593876
               ],
               [
                18.670105,
                45.541593
               ],
               [
                18.669904,
                45.542508
               ],
               [
                18.669613,
                45.541684
               ],
               [
                18.66892147934931,
                45.54161976037671
               ],
               [
                18.668912,
                45.541578
               ],
               [
                18.668077,
                45.541413
               ],
               [
                18.667807,
                45.540683
               ],
               [
                18.666179943549317,
                45.53959292792036
               ],
               [
                18.666037,
                45.539259
               ],
               [
                18.665747997909836,
                45.5393035391402
               ],
               [
                18.66518,
                45.538923
               ],
               [
                18.664688,
                45.540309
               ],
               [
                18.665146946800938,
                45.54094466038911
               ],
               [
                18.66513474201289,
                45.54164512804605
               ],
               [
                18.66418,
                45.542811
               ],
               [
                18.661929,
                45.544309
               ],
               [
                18.662113280676774,
                45.54599964841078
               ],
               [
                18.664227,
                45.546127
               ],
               [
                18.665227,
                45.546854
               ],
               [
                18.668108987512323,
                45.546850157349986
               ],
               [
                18.668019,
                45.546759
               ],
               [
                18.665241,
                45.546756
               ],
               [
                18.664376155830094,
                45.54622661911695
               ],
               [
                18.66718,
                45.546123
               ],
               [
                18.667809,
                45.545937
               ],
               [
                18.66806190416894,
                45.545260109430195
               ],
               [
                18.669254171724436,
                45.545304498228795
               ],
               [
                18.669365,
                45.546125
               ],
               [
                18.670236,
                45.546254
               ],
               [
                18.670336,
                45.547154
               ],
               [
                18.671053788245924,
                45.54724000598243
               ],
               [
                18.671054,
                45.547242
               ],
               [
                18.671229171834913,
                45.54726187489117
               ],
               [
                18.67137218014771,
                45.54798999648378
               ],
               [
                18.671876,
                45.548035
               ],
               [
                18.67233,
                45.548684
               ],
               [
                18.6723,
                45.547611
               ],
               [
                18.671454,
                45.547457
               ],
               [
                18.671305,
                45.546606
               ],
               [
                18.670468,
                45.546442
               ],
               [
                18.670311,
                45.5456
               ],
               [
                18.669486,
                45.545425
               ],
               [
                18.669506,
                45.543684
               ],
               [
                18.670363,
                45.542684
               ],
               [
                18.67048160688693,
                45.540492596565294
               ],
               [
                18.67038,
                45.540509
               ]
              ]
             ],
             [
              [
               [
                18.65564,
                45.550155
               ],
               [
                18.655019,
                45.550374
               ],
               [
                18.653237,
                45.550534
               ],
               [
                18.655207,
                45.551346
               ],
               [
                18.655114197955772,
                45.55139847169054
               ],
               [
                18.655391,
                45.551479
               ],
               [
                18.654453,
                45.552479
               ],
               [
                18.65428203999966,
                45.55402341567873
               ],
               [
                18.65462,
                45.553684
               ],
               [
                18.654906,
                45.552363
               ],
               [
                18.656227,
                45.551419
               ],
               [
                18.656039,
                45.554872
               ],
               [
                18.657227,
                45.554936
               ],
               [
                18.658227,
                45.5559
               ],
               [
                18.662395,
                45.555684
               ],
               [
                18.662227,
                45.55451
               ],
               [
                18.661227,
                45.555478
               ],
               [
                18.660361,
                45.55455
               ],
               [
                18.659227,
                45.554437
               ],
               [
                18.658474,
                45.553684
               ],
               [
                18.658736,
                45.552193
               ],
               [
                18.659227,
                45.551948
               ],
               [
                18.660069,
                45.552842
               ],
               [
                18.661227,
                45.552874
               ],
               [
                18.66136,
                45.551551
               ],
               [
                18.659668,
                45.551243
               ],
               [
                18.659227,
                45.550415
               ],
               [
                18.656687,
                45.550224
               ],
               [
                18.655720624928954,
                45.54996652061463
               ],
               [
                18.65564,
                45.550155
               ]
              ]
             ],
             [
              [
               [
                18.653157,
                45.554825
               ],
               [
                18.650019,
                45.555341
               ],
               [
                18.648935,
                45.556257
               ],
               [
                18.647692,
                45.556479
               ],
               [
                18.647683071056417,
                45.55665115003225
               ],
               [
                18.648227,
                45.557126
               ],
               [
                18.650203,
                45.556684
               ],
               [
                18.649694,
                45.555684
               ],
               [
                18.653227,
                45.555083
               ],
               [
                18.653403415762888,
                45.55490582437022
               ],
               [
                18.653157,
                45.554825
               ]
              ]
             ],
             [
              [
               [
                18.669247332120392,
                45.566744194931374
               ],
               [
                18.670227,
                45.566598
               ],
               [
                18.669753100572805,
                45.56659657830172
               ],
               [
                18.669247332120392,
                45.566744194931374
               ]
              ]
             ],
             [
              [
               [
                18.707341804614497,
                45.56967319484007
               ],
               [
                18.707162,
                45.569684
               ],
               [
                18.70733512546633,
                45.56971020277329
               ],
               [
                18.707341804614497,
                45.56967319484007
               ]
              ]
             ],
             [
              [
               [
                18.707380266410222,
                45.569717034916145
               ],
               [
                18.70785036351976,
                45.56978818474894
               ],
               [
                18.70786597432885,
                45.569641695439394
               ],
               [
                18.707371970406992,
                45.56967138206005
               ],
               [
                18.707380266410222,
                45.569717034916145
               ]
              ]
             ],
             [
              [
               [
                18.70792394849278,
                45.56979932193404
               ],
               [
                18.708087,
                45.569824
               ],
               [
                18.708080433504442,
                45.5701421765574
               ],
               [
                18.708133012617544,
                45.569625648068055
               ],
               [
                18.707891794859624,
                45.56964014378308
               ],
               [
                18.70792394849278,
                45.56979932193404
               ]
              ]
             ],
             [
              [
               [
                18.708270166384146,
                45.56991208202995
               ],
               [
                18.708227,
                45.56962
               ],
               [
                18.708207113785235,
                45.569621195040135
               ],
               [
                18.708270166384146,
                45.56991208202995
               ]
              ]
             ],
             [
              [
               [
                18.671019,
                45.547921
               ],
               [
                18.669119183572757,
                45.54777946367617
               ],
               [
                18.669122,
                45.547789
               ],
               [
                18.67107298606142,
                45.5479632710861
               ],
               [
                18.671019,
                45.547921
               ]
              ]
             ],
             [
              [
               [
                18.711077474575532,
                45.537124863824836
               ],
               [
                18.710847612369,
                45.53745977362452
               ],
               [
                18.711330549043033,
                45.537434948107624
               ],
               [
                18.711423545394105,
                45.53710530250545
               ],
               [
                18.711077474575532,
                45.537124863824836
               ]
              ]
             ],
             [
              [
               [
                18.709247044632445,
                45.538899158913416
               ],
               [
                18.709222964584047,
                45.53905448376461
               ],
               [
                18.709117274065026,
                45.53906519249561
               ],
               [
                18.70892245703356,
                45.539835383125386
               ],
               [
                18.709299,
                45.539756
               ],
               [
                18.709376020027136,
                45.53887026968792
               ],
               [
                18.709247044632445,
                45.538899158913416
               ]
              ]
             ],
             [
              [
               [
                18.706036980735277,
                45.53960801058195
               ],
               [
                18.706137,
                45.539774
               ],
               [
                18.70653685228341,
                45.53981379391146
               ],
               [
                18.706036980735277,
                45.53960801058195
               ]
              ]
             ],
             [
              [
               [
                18.702207865894664,
                45.536819162556704
               ],
               [
                18.702157,
                45.537577
               ],
               [
                18.702008902835402,
                45.537575923641356
               ],
               [
                18.70200476126609,
                45.53769056580463
               ],
               [
                18.702417,
                45.537684
               ],
               [
                18.70238,
                45.536531
               ],
               [
                18.702312070673056,
                45.53652440148775
               ],
               [
                18.702207865894664,
                45.536819162556704
               ]
              ]
             ]
            ],
            "type": "MultiPolygon"
           },
           "type": "fill"
          }
         ],
         "style": "open-street-map",
         "zoom": 12
        },
        "margin": {
         "b": 0,
         "l": 0,
         "r": 0,
         "t": 0
        },
        "showlegend": false,
        "template": {
         "data": {
          "bar": [
           {
            "error_x": {
             "color": "#2a3f5f"
            },
            "error_y": {
             "color": "#2a3f5f"
            },
            "marker": {
             "line": {
              "color": "#E5ECF6",
              "width": 0.5
             },
             "pattern": {
              "fillmode": "overlay",
              "size": 10,
              "solidity": 0.2
             }
            },
            "type": "bar"
           }
          ],
          "barpolar": [
           {
            "marker": {
             "line": {
              "color": "#E5ECF6",
              "width": 0.5
             },
             "pattern": {
              "fillmode": "overlay",
              "size": 10,
              "solidity": 0.2
             }
            },
            "type": "barpolar"
           }
          ],
          "carpet": [
           {
            "aaxis": {
             "endlinecolor": "#2a3f5f",
             "gridcolor": "white",
             "linecolor": "white",
             "minorgridcolor": "white",
             "startlinecolor": "#2a3f5f"
            },
            "baxis": {
             "endlinecolor": "#2a3f5f",
             "gridcolor": "white",
             "linecolor": "white",
             "minorgridcolor": "white",
             "startlinecolor": "#2a3f5f"
            },
            "type": "carpet"
           }
          ],
          "choropleth": [
           {
            "colorbar": {
             "outlinewidth": 0,
             "ticks": ""
            },
            "type": "choropleth"
           }
          ],
          "contour": [
           {
            "colorbar": {
             "outlinewidth": 0,
             "ticks": ""
            },
            "colorscale": [
             [
              0,
              "#0d0887"
             ],
             [
              0.1111111111111111,
              "#46039f"
             ],
             [
              0.2222222222222222,
              "#7201a8"
             ],
             [
              0.3333333333333333,
              "#9c179e"
             ],
             [
              0.4444444444444444,
              "#bd3786"
             ],
             [
              0.5555555555555556,
              "#d8576b"
             ],
             [
              0.6666666666666666,
              "#ed7953"
             ],
             [
              0.7777777777777778,
              "#fb9f3a"
             ],
             [
              0.8888888888888888,
              "#fdca26"
             ],
             [
              1,
              "#f0f921"
             ]
            ],
            "type": "contour"
           }
          ],
          "contourcarpet": [
           {
            "colorbar": {
             "outlinewidth": 0,
             "ticks": ""
            },
            "type": "contourcarpet"
           }
          ],
          "heatmap": [
           {
            "colorbar": {
             "outlinewidth": 0,
             "ticks": ""
            },
            "colorscale": [
             [
              0,
              "#0d0887"
             ],
             [
              0.1111111111111111,
              "#46039f"
             ],
             [
              0.2222222222222222,
              "#7201a8"
             ],
             [
              0.3333333333333333,
              "#9c179e"
             ],
             [
              0.4444444444444444,
              "#bd3786"
             ],
             [
              0.5555555555555556,
              "#d8576b"
             ],
             [
              0.6666666666666666,
              "#ed7953"
             ],
             [
              0.7777777777777778,
              "#fb9f3a"
             ],
             [
              0.8888888888888888,
              "#fdca26"
             ],
             [
              1,
              "#f0f921"
             ]
            ],
            "type": "heatmap"
           }
          ],
          "heatmapgl": [
           {
            "colorbar": {
             "outlinewidth": 0,
             "ticks": ""
            },
            "colorscale": [
             [
              0,
              "#0d0887"
             ],
             [
              0.1111111111111111,
              "#46039f"
             ],
             [
              0.2222222222222222,
              "#7201a8"
             ],
             [
              0.3333333333333333,
              "#9c179e"
             ],
             [
              0.4444444444444444,
              "#bd3786"
             ],
             [
              0.5555555555555556,
              "#d8576b"
             ],
             [
              0.6666666666666666,
              "#ed7953"
             ],
             [
              0.7777777777777778,
              "#fb9f3a"
             ],
             [
              0.8888888888888888,
              "#fdca26"
             ],
             [
              1,
              "#f0f921"
             ]
            ],
            "type": "heatmapgl"
           }
          ],
          "histogram": [
           {
            "marker": {
             "pattern": {
              "fillmode": "overlay",
              "size": 10,
              "solidity": 0.2
             }
            },
            "type": "histogram"
           }
          ],
          "histogram2d": [
           {
            "colorbar": {
             "outlinewidth": 0,
             "ticks": ""
            },
            "colorscale": [
             [
              0,
              "#0d0887"
             ],
             [
              0.1111111111111111,
              "#46039f"
             ],
             [
              0.2222222222222222,
              "#7201a8"
             ],
             [
              0.3333333333333333,
              "#9c179e"
             ],
             [
              0.4444444444444444,
              "#bd3786"
             ],
             [
              0.5555555555555556,
              "#d8576b"
             ],
             [
              0.6666666666666666,
              "#ed7953"
             ],
             [
              0.7777777777777778,
              "#fb9f3a"
             ],
             [
              0.8888888888888888,
              "#fdca26"
             ],
             [
              1,
              "#f0f921"
             ]
            ],
            "type": "histogram2d"
           }
          ],
          "histogram2dcontour": [
           {
            "colorbar": {
             "outlinewidth": 0,
             "ticks": ""
            },
            "colorscale": [
             [
              0,
              "#0d0887"
             ],
             [
              0.1111111111111111,
              "#46039f"
             ],
             [
              0.2222222222222222,
              "#7201a8"
             ],
             [
              0.3333333333333333,
              "#9c179e"
             ],
             [
              0.4444444444444444,
              "#bd3786"
             ],
             [
              0.5555555555555556,
              "#d8576b"
             ],
             [
              0.6666666666666666,
              "#ed7953"
             ],
             [
              0.7777777777777778,
              "#fb9f3a"
             ],
             [
              0.8888888888888888,
              "#fdca26"
             ],
             [
              1,
              "#f0f921"
             ]
            ],
            "type": "histogram2dcontour"
           }
          ],
          "mesh3d": [
           {
            "colorbar": {
             "outlinewidth": 0,
             "ticks": ""
            },
            "type": "mesh3d"
           }
          ],
          "parcoords": [
           {
            "line": {
             "colorbar": {
              "outlinewidth": 0,
              "ticks": ""
             }
            },
            "type": "parcoords"
           }
          ],
          "pie": [
           {
            "automargin": true,
            "type": "pie"
           }
          ],
          "scatter": [
           {
            "fillpattern": {
             "fillmode": "overlay",
             "size": 10,
             "solidity": 0.2
            },
            "type": "scatter"
           }
          ],
          "scatter3d": [
           {
            "line": {
             "colorbar": {
              "outlinewidth": 0,
              "ticks": ""
             }
            },
            "marker": {
             "colorbar": {
              "outlinewidth": 0,
              "ticks": ""
             }
            },
            "type": "scatter3d"
           }
          ],
          "scattercarpet": [
           {
            "marker": {
             "colorbar": {
              "outlinewidth": 0,
              "ticks": ""
             }
            },
            "type": "scattercarpet"
           }
          ],
          "scattergeo": [
           {
            "marker": {
             "colorbar": {
              "outlinewidth": 0,
              "ticks": ""
             }
            },
            "type": "scattergeo"
           }
          ],
          "scattergl": [
           {
            "marker": {
             "colorbar": {
              "outlinewidth": 0,
              "ticks": ""
             }
            },
            "type": "scattergl"
           }
          ],
          "scattermapbox": [
           {
            "marker": {
             "colorbar": {
              "outlinewidth": 0,
              "ticks": ""
             }
            },
            "type": "scattermapbox"
           }
          ],
          "scatterpolar": [
           {
            "marker": {
             "colorbar": {
              "outlinewidth": 0,
              "ticks": ""
             }
            },
            "type": "scatterpolar"
           }
          ],
          "scatterpolargl": [
           {
            "marker": {
             "colorbar": {
              "outlinewidth": 0,
              "ticks": ""
             }
            },
            "type": "scatterpolargl"
           }
          ],
          "scatterternary": [
           {
            "marker": {
             "colorbar": {
              "outlinewidth": 0,
              "ticks": ""
             }
            },
            "type": "scatterternary"
           }
          ],
          "surface": [
           {
            "colorbar": {
             "outlinewidth": 0,
             "ticks": ""
            },
            "colorscale": [
             [
              0,
              "#0d0887"
             ],
             [
              0.1111111111111111,
              "#46039f"
             ],
             [
              0.2222222222222222,
              "#7201a8"
             ],
             [
              0.3333333333333333,
              "#9c179e"
             ],
             [
              0.4444444444444444,
              "#bd3786"
             ],
             [
              0.5555555555555556,
              "#d8576b"
             ],
             [
              0.6666666666666666,
              "#ed7953"
             ],
             [
              0.7777777777777778,
              "#fb9f3a"
             ],
             [
              0.8888888888888888,
              "#fdca26"
             ],
             [
              1,
              "#f0f921"
             ]
            ],
            "type": "surface"
           }
          ],
          "table": [
           {
            "cells": {
             "fill": {
              "color": "#EBF0F8"
             },
             "line": {
              "color": "white"
             }
            },
            "header": {
             "fill": {
              "color": "#C8D4E3"
             },
             "line": {
              "color": "white"
             }
            },
            "type": "table"
           }
          ]
         },
         "layout": {
          "annotationdefaults": {
           "arrowcolor": "#2a3f5f",
           "arrowhead": 0,
           "arrowwidth": 1
          },
          "autotypenumbers": "strict",
          "coloraxis": {
           "colorbar": {
            "outlinewidth": 0,
            "ticks": ""
           }
          },
          "colorscale": {
           "diverging": [
            [
             0,
             "#8e0152"
            ],
            [
             0.1,
             "#c51b7d"
            ],
            [
             0.2,
             "#de77ae"
            ],
            [
             0.3,
             "#f1b6da"
            ],
            [
             0.4,
             "#fde0ef"
            ],
            [
             0.5,
             "#f7f7f7"
            ],
            [
             0.6,
             "#e6f5d0"
            ],
            [
             0.7,
             "#b8e186"
            ],
            [
             0.8,
             "#7fbc41"
            ],
            [
             0.9,
             "#4d9221"
            ],
            [
             1,
             "#276419"
            ]
           ],
           "sequential": [
            [
             0,
             "#0d0887"
            ],
            [
             0.1111111111111111,
             "#46039f"
            ],
            [
             0.2222222222222222,
             "#7201a8"
            ],
            [
             0.3333333333333333,
             "#9c179e"
            ],
            [
             0.4444444444444444,
             "#bd3786"
            ],
            [
             0.5555555555555556,
             "#d8576b"
            ],
            [
             0.6666666666666666,
             "#ed7953"
            ],
            [
             0.7777777777777778,
             "#fb9f3a"
            ],
            [
             0.8888888888888888,
             "#fdca26"
            ],
            [
             1,
             "#f0f921"
            ]
           ],
           "sequentialminus": [
            [
             0,
             "#0d0887"
            ],
            [
             0.1111111111111111,
             "#46039f"
            ],
            [
             0.2222222222222222,
             "#7201a8"
            ],
            [
             0.3333333333333333,
             "#9c179e"
            ],
            [
             0.4444444444444444,
             "#bd3786"
            ],
            [
             0.5555555555555556,
             "#d8576b"
            ],
            [
             0.6666666666666666,
             "#ed7953"
            ],
            [
             0.7777777777777778,
             "#fb9f3a"
            ],
            [
             0.8888888888888888,
             "#fdca26"
            ],
            [
             1,
             "#f0f921"
            ]
           ]
          },
          "colorway": [
           "#636efa",
           "#EF553B",
           "#00cc96",
           "#ab63fa",
           "#FFA15A",
           "#19d3f3",
           "#FF6692",
           "#B6E880",
           "#FF97FF",
           "#FECB52"
          ],
          "font": {
           "color": "#2a3f5f"
          },
          "geo": {
           "bgcolor": "white",
           "lakecolor": "white",
           "landcolor": "#E5ECF6",
           "showlakes": true,
           "showland": true,
           "subunitcolor": "white"
          },
          "hoverlabel": {
           "align": "left"
          },
          "hovermode": "closest",
          "mapbox": {
           "style": "light"
          },
          "paper_bgcolor": "white",
          "plot_bgcolor": "#E5ECF6",
          "polar": {
           "angularaxis": {
            "gridcolor": "white",
            "linecolor": "white",
            "ticks": ""
           },
           "bgcolor": "#E5ECF6",
           "radialaxis": {
            "gridcolor": "white",
            "linecolor": "white",
            "ticks": ""
           }
          },
          "scene": {
           "xaxis": {
            "backgroundcolor": "#E5ECF6",
            "gridcolor": "white",
            "gridwidth": 2,
            "linecolor": "white",
            "showbackground": true,
            "ticks": "",
            "zerolinecolor": "white"
           },
           "yaxis": {
            "backgroundcolor": "#E5ECF6",
            "gridcolor": "white",
            "gridwidth": 2,
            "linecolor": "white",
            "showbackground": true,
            "ticks": "",
            "zerolinecolor": "white"
           },
           "zaxis": {
            "backgroundcolor": "#E5ECF6",
            "gridcolor": "white",
            "gridwidth": 2,
            "linecolor": "white",
            "showbackground": true,
            "ticks": "",
            "zerolinecolor": "white"
           }
          },
          "shapedefaults": {
           "line": {
            "color": "#2a3f5f"
           }
          },
          "ternary": {
           "aaxis": {
            "gridcolor": "white",
            "linecolor": "white",
            "ticks": ""
           },
           "baxis": {
            "gridcolor": "white",
            "linecolor": "white",
            "ticks": ""
           },
           "bgcolor": "#E5ECF6",
           "caxis": {
            "gridcolor": "white",
            "linecolor": "white",
            "ticks": ""
           }
          },
          "title": {
           "x": 0.05
          },
          "xaxis": {
           "automargin": true,
           "gridcolor": "white",
           "linecolor": "white",
           "ticks": "",
           "title": {
            "standoff": 15
           },
           "zerolinecolor": "white",
           "zerolinewidth": 2
          },
          "yaxis": {
           "automargin": true,
           "gridcolor": "white",
           "linecolor": "white",
           "ticks": "",
           "title": {
            "standoff": 15
           },
           "zerolinecolor": "white",
           "zerolinewidth": 2
          }
         }
        },
        "width": 1000
       }
      },
      "text/html": [
       "<div>                            <div id=\"838d7316-7871-4f66-8244-87d20c2e4c02\" class=\"plotly-graph-div\" style=\"height:1000px; width:1000px;\"></div>            <script type=\"text/javascript\">                require([\"plotly\"], function(Plotly) {                    window.PLOTLYENV=window.PLOTLYENV || {};                                    if (document.getElementById(\"838d7316-7871-4f66-8244-87d20c2e4c02\")) {                    Plotly.newPlot(                        \"838d7316-7871-4f66-8244-87d20c2e4c02\",                        [{\"hoverinfo\":[\"name\"],\"hoverlabel\":{\"namelength\":-1},\"lat\":[45.54221299193733],\"lon\":[18.74559407809055],\"marker\":{\"color\":[\"black\"],\"size\":10},\"mode\":\"markers\",\"name\":\"HEP termoelektrana (Ul. Matina Divalta) | cycling | 20\",\"type\":\"scattermapbox\"},{\"hoverinfo\":[\"name\"],\"hoverlabel\":{\"namelength\":-1},\"lat\":[45.56068417072393],\"lon\":[18.70122681607802],\"marker\":{\"color\":[\"black\"],\"size\":10},\"mode\":\"markers\",\"name\":\"HEP termoelektrana (Ul. Cara Hadrijana) | cycling | 20\",\"type\":\"scattermapbox\"},{\"hoverinfo\":[\"name\"],\"hoverlabel\":{\"namelength\":-1},\"lat\":[45.558640523748124,45.548479071373,45.55736880441413],\"lon\":[18.684874812162008,18.695157105724466,18.69991741658569],\"marker\":{\"color\":[\"yellow\",\"yellow\",\"yellow\"],\"size\":10},\"mode\":\"markers\",\"name\":\"Test #001\",\"type\":\"scattermapbox\"},{\"hoverinfo\":[\"name\"],\"hoverlabel\":{\"namelength\":-1},\"lat\":[45.548479071373],\"lon\":[18.695157105724466],\"marker\":{\"color\":[\"blue\"],\"size\":10},\"mode\":\"markers\",\"name\":\"Gradski bazeni | cycling | 20\",\"type\":\"scattermapbox\"},{\"hoverinfo\":[\"name\"],\"hoverlabel\":{\"namelength\":-1},\"lat\":[45.558640523748124],\"lon\":[18.684874812162008],\"marker\":{\"color\":[\"orange\"],\"size\":10},\"mode\":\"markers\",\"name\":\"Fakultet primijenjene matematike i informatike | cycling | 20\",\"type\":\"scattermapbox\"},{\"hoverinfo\":[\"name\"],\"hoverlabel\":{\"namelength\":-1},\"lat\":[45.56451055317391],\"lon\":[18.612095951840978],\"marker\":{\"color\":[\"purple\"],\"size\":10},\"mode\":\"markers\",\"name\":\"Djecji vrtic Visnjevac | walking | 20\",\"type\":\"scattermapbox\"},{\"hoverinfo\":[\"name\"],\"hoverlabel\":{\"namelength\":-1},\"lat\":[45.572139755029454],\"lon\":[18.60089407365537],\"marker\":{\"color\":[\"purple\"],\"size\":10},\"mode\":\"markers\",\"name\":\"Djecji vrtic Josipovac | walking | 20\",\"type\":\"scattermapbox\"},{\"hoverinfo\":[\"name\"],\"hoverlabel\":{\"namelength\":-1},\"lat\":[45.563061312996865],\"lon\":[18.648340755625007],\"marker\":{\"color\":[\"purple\"],\"size\":10},\"mode\":\"markers\",\"name\":\"Djecji vrtic Suncica | walking | 20\",\"type\":\"scattermapbox\"},{\"hoverinfo\":[\"name\"],\"hoverlabel\":{\"namelength\":-1},\"lat\":[45.56654018260058],\"lon\":[18.645960125139453],\"marker\":{\"color\":[\"purple\"],\"size\":10},\"mode\":\"markers\",\"name\":\"Djecji vrtic Jelenko | walking | 20\",\"type\":\"scattermapbox\"},{\"hoverinfo\":[\"name\"],\"hoverlabel\":{\"namelength\":-1},\"lat\":[45.56352251396461],\"lon\":[18.65846122244881],\"marker\":{\"color\":[\"purple\"],\"size\":10},\"mode\":\"markers\",\"name\":\"Djecji vrtic Cvrcak | walking | 20\",\"type\":\"scattermapbox\"},{\"hoverinfo\":[\"name\"],\"hoverlabel\":{\"namelength\":-1},\"lat\":[45.54530922942358],\"lon\":[18.679180490698247],\"marker\":{\"color\":[\"purple\"],\"size\":10},\"mode\":\"markers\",\"name\":\"Djecji vrtic Pcelica | walking | 20\",\"type\":\"scattermapbox\"},{\"hoverinfo\":[\"name\"],\"hoverlabel\":{\"namelength\":-1},\"lat\":[45.545392212060754],\"lon\":[18.679904262444772],\"marker\":{\"color\":[\"purple\"],\"size\":10},\"mode\":\"markers\",\"name\":\"Djecji vrtic Tratincica | walking | 20\",\"type\":\"scattermapbox\"},{\"hoverinfo\":[\"name\"],\"hoverlabel\":{\"namelength\":-1},\"lat\":[45.55653352850119],\"lon\":[18.666018955226313],\"marker\":{\"color\":[\"purple\"],\"size\":10},\"mode\":\"markers\",\"name\":\"Djecji vrtic Potocnica | walking | 20\",\"type\":\"scattermapbox\"},{\"hoverinfo\":[\"name\"],\"hoverlabel\":{\"namelength\":-1},\"lat\":[45.55926244598175],\"lon\":[18.680498625038428],\"marker\":{\"color\":[\"purple\"],\"size\":10},\"mode\":\"markers\",\"name\":\"Djecji vrtic Vedri dani | walking | 20\",\"type\":\"scattermapbox\"},{\"hoverinfo\":[\"name\"],\"hoverlabel\":{\"namelength\":-1},\"lat\":[45.5628593765151],\"lon\":[18.66599144436665],\"marker\":{\"color\":[\"purple\"],\"size\":10},\"mode\":\"markers\",\"name\":\"Djecji vrtic Latica | walking | 20\",\"type\":\"scattermapbox\"},{\"hoverinfo\":[\"name\"],\"hoverlabel\":{\"namelength\":-1},\"lat\":[45.561656600246614],\"lon\":[18.672021102935098],\"marker\":{\"color\":[\"purple\"],\"size\":10},\"mode\":\"markers\",\"name\":\"Djecji vrtic Bubamara | walking | 20\",\"type\":\"scattermapbox\"},{\"hoverinfo\":[\"name\"],\"hoverlabel\":{\"namelength\":-1},\"lat\":[45.55696569235974],\"lon\":[18.6888354120746],\"marker\":{\"color\":[\"purple\"],\"size\":10},\"mode\":\"markers\",\"name\":\"Djecji vrtic Radost | walking | 20\",\"type\":\"scattermapbox\"},{\"hoverinfo\":[\"name\"],\"hoverlabel\":{\"namelength\":-1},\"lat\":[45.501318643645405],\"lon\":[18.746427875691957],\"marker\":{\"color\":[\"purple\"],\"size\":10},\"mode\":\"markers\",\"name\":\"Djecji vrtic Vrapcic | walking | 20\",\"type\":\"scattermapbox\"},{\"hoverinfo\":[\"name\"],\"hoverlabel\":{\"namelength\":-1},\"lat\":[45.54396046126857],\"lon\":[18.712611691390272],\"marker\":{\"color\":[\"purple\"],\"size\":10},\"mode\":\"markers\",\"name\":\"Djecji vrtic Maslacak | walking | 20\",\"type\":\"scattermapbox\"},{\"hoverinfo\":[\"name\"],\"hoverlabel\":{\"namelength\":-1},\"lat\":[45.54434241906588],\"lon\":[18.721224704562648],\"marker\":{\"color\":[\"purple\"],\"size\":10},\"mode\":\"markers\",\"name\":\"Djecji vrtic Nevicica | walking | 20\",\"type\":\"scattermapbox\"},{\"hoverinfo\":[\"name\"],\"hoverlabel\":{\"namelength\":-1},\"lat\":[45.54776551606488],\"lon\":[18.712096996128576],\"marker\":{\"color\":[\"purple\"],\"size\":10},\"mode\":\"markers\",\"name\":\"Djecji vrtic Krijesnica | walking | 20\",\"type\":\"scattermapbox\"},{\"hoverinfo\":[\"name\"],\"hoverlabel\":{\"namelength\":-1},\"lat\":[45.547101212695935],\"lon\":[18.70664125722545],\"marker\":{\"color\":[\"purple\"],\"size\":10},\"mode\":\"markers\",\"name\":\"Djecji vrtic Kosjenka | walking | 20\",\"type\":\"scattermapbox\"},{\"hoverinfo\":[\"name\"],\"hoverlabel\":{\"namelength\":-1},\"lat\":[45.55313518900148],\"lon\":[18.707892035759176],\"marker\":{\"color\":[\"purple\"],\"size\":10},\"mode\":\"markers\",\"name\":\"Djecji vrtic Jabuka | walking | 20\",\"type\":\"scattermapbox\"},{\"hoverinfo\":[\"name\"],\"hoverlabel\":{\"namelength\":-1},\"lat\":[45.5553447309436],\"lon\":[18.71663225942634],\"marker\":{\"color\":[\"purple\"],\"size\":10},\"mode\":\"markers\",\"name\":\"Djecji vrtic Mak | walking | 20\",\"type\":\"scattermapbox\"},{\"hoverinfo\":[\"name\"],\"hoverlabel\":{\"namelength\":-1},\"lat\":[45.45665213270752],\"lon\":[18.57543678345206],\"marker\":{\"color\":[\"purple\"],\"size\":10},\"mode\":\"markers\",\"name\":\"Djecji vrtic Vladislavci | walking | 20\",\"type\":\"scattermapbox\"},{\"hoverinfo\":[\"name\"],\"hoverlabel\":{\"namelength\":-1},\"lat\":[45.552355899286276],\"lon\":[18.69996672570259],\"marker\":{\"color\":[\"purple\"],\"size\":10},\"mode\":\"markers\",\"name\":\"Djecji vrtic Sjencica | walking | 20\",\"type\":\"scattermapbox\"},{\"hoverinfo\":[\"name\"],\"hoverlabel\":{\"namelength\":-1},\"lat\":[45.55764815248771],\"lon\":[18.700280620982035],\"marker\":{\"color\":[\"purple\"],\"size\":10},\"mode\":\"markers\",\"name\":\"Djecji vrtic Stribor | walking | 20\",\"type\":\"scattermapbox\"},{\"hoverinfo\":[\"name\"],\"hoverlabel\":{\"namelength\":-1},\"lat\":[45.56367506281198],\"lon\":[18.709357031192766],\"marker\":{\"color\":[\"purple\"],\"size\":10},\"mode\":\"markers\",\"name\":\"Djecji vrtic Bambi | walking | 20\",\"type\":\"scattermapbox\"},{\"hoverinfo\":[\"name\"],\"hoverlabel\":{\"namelength\":-1},\"lat\":[45.524161929559476],\"lon\":[18.842560695452182],\"marker\":{\"color\":[\"purple\"],\"size\":10},\"mode\":\"markers\",\"name\":\"Djecji vrtic Ribica | walking | 20\",\"type\":\"scattermapbox\"},{\"hoverinfo\":[\"name\"],\"hoverlabel\":{\"namelength\":-1},\"lat\":[45.556007656703],\"lon\":[18.720821426971156],\"marker\":{\"color\":[\"purple\"],\"size\":10},\"mode\":\"markers\",\"name\":\"Djecji vrtic Ivancica | walking | 20\",\"type\":\"scattermapbox\"},{\"hoverinfo\":[\"name\"],\"hoverlabel\":{\"namelength\":-1},\"lat\":[45.55721832630263],\"lon\":[18.730214578492454],\"marker\":{\"color\":[\"purple\"],\"size\":10},\"mode\":\"markers\",\"name\":\"Djecji vrtic Jaglenac | walking | 20\",\"type\":\"scattermapbox\"},{\"hoverinfo\":[\"name\"],\"hoverlabel\":{\"namelength\":-1},\"lat\":[45.551189511061054],\"lon\":[18.68583048537],\"marker\":{\"color\":[\"purple\"],\"size\":10},\"mode\":\"markers\",\"name\":\"Djecji vrtic Mali princ (Dunavska) | walking | 20\",\"type\":\"scattermapbox\"},{\"hoverinfo\":[\"name\"],\"hoverlabel\":{\"namelength\":-1},\"lat\":[45.563467092904624],\"lon\":[18.663932116481593],\"marker\":{\"color\":[\"purple\"],\"size\":10},\"mode\":\"markers\",\"name\":\"Djecji vrtic Mali princ (Paradzika) | walking | 20\",\"type\":\"scattermapbox\"},{\"hoverinfo\":[\"name\"],\"hoverlabel\":{\"namelength\":-1},\"lat\":[45.48838610138395],\"lon\":[18.669618548850426],\"marker\":{\"color\":[\"purple\"],\"size\":10},\"mode\":\"markers\",\"name\":\"Djecji vrtic Mali princ (Antunovac) | walking | 20\",\"type\":\"scattermapbox\"},{\"hoverinfo\":[\"name\"],\"hoverlabel\":{\"namelength\":-1},\"lat\":[45.558553513972825],\"lon\":[18.66703371269032],\"marker\":{\"color\":[\"purple\"],\"size\":10},\"mode\":\"markers\",\"name\":\"Djecji vrtic Lastavica | walking | 20\",\"type\":\"scattermapbox\"},{\"hoverinfo\":[\"name\"],\"hoverlabel\":{\"namelength\":-1},\"lat\":[45.563052071986455],\"lon\":[18.672556140836427],\"marker\":{\"color\":[\"purple\"],\"size\":10},\"mode\":\"markers\",\"name\":\"Djecji vrtic Snjeguljica | walking | 20\",\"type\":\"scattermapbox\"}],                        {\"template\":{\"data\":{\"histogram2dcontour\":[{\"type\":\"histogram2dcontour\",\"colorbar\":{\"outlinewidth\":0,\"ticks\":\"\"},\"colorscale\":[[0.0,\"#0d0887\"],[0.1111111111111111,\"#46039f\"],[0.2222222222222222,\"#7201a8\"],[0.3333333333333333,\"#9c179e\"],[0.4444444444444444,\"#bd3786\"],[0.5555555555555556,\"#d8576b\"],[0.6666666666666666,\"#ed7953\"],[0.7777777777777778,\"#fb9f3a\"],[0.8888888888888888,\"#fdca26\"],[1.0,\"#f0f921\"]]}],\"choropleth\":[{\"type\":\"choropleth\",\"colorbar\":{\"outlinewidth\":0,\"ticks\":\"\"}}],\"histogram2d\":[{\"type\":\"histogram2d\",\"colorbar\":{\"outlinewidth\":0,\"ticks\":\"\"},\"colorscale\":[[0.0,\"#0d0887\"],[0.1111111111111111,\"#46039f\"],[0.2222222222222222,\"#7201a8\"],[0.3333333333333333,\"#9c179e\"],[0.4444444444444444,\"#bd3786\"],[0.5555555555555556,\"#d8576b\"],[0.6666666666666666,\"#ed7953\"],[0.7777777777777778,\"#fb9f3a\"],[0.8888888888888888,\"#fdca26\"],[1.0,\"#f0f921\"]]}],\"heatmap\":[{\"type\":\"heatmap\",\"colorbar\":{\"outlinewidth\":0,\"ticks\":\"\"},\"colorscale\":[[0.0,\"#0d0887\"],[0.1111111111111111,\"#46039f\"],[0.2222222222222222,\"#7201a8\"],[0.3333333333333333,\"#9c179e\"],[0.4444444444444444,\"#bd3786\"],[0.5555555555555556,\"#d8576b\"],[0.6666666666666666,\"#ed7953\"],[0.7777777777777778,\"#fb9f3a\"],[0.8888888888888888,\"#fdca26\"],[1.0,\"#f0f921\"]]}],\"heatmapgl\":[{\"type\":\"heatmapgl\",\"colorbar\":{\"outlinewidth\":0,\"ticks\":\"\"},\"colorscale\":[[0.0,\"#0d0887\"],[0.1111111111111111,\"#46039f\"],[0.2222222222222222,\"#7201a8\"],[0.3333333333333333,\"#9c179e\"],[0.4444444444444444,\"#bd3786\"],[0.5555555555555556,\"#d8576b\"],[0.6666666666666666,\"#ed7953\"],[0.7777777777777778,\"#fb9f3a\"],[0.8888888888888888,\"#fdca26\"],[1.0,\"#f0f921\"]]}],\"contourcarpet\":[{\"type\":\"contourcarpet\",\"colorbar\":{\"outlinewidth\":0,\"ticks\":\"\"}}],\"contour\":[{\"type\":\"contour\",\"colorbar\":{\"outlinewidth\":0,\"ticks\":\"\"},\"colorscale\":[[0.0,\"#0d0887\"],[0.1111111111111111,\"#46039f\"],[0.2222222222222222,\"#7201a8\"],[0.3333333333333333,\"#9c179e\"],[0.4444444444444444,\"#bd3786\"],[0.5555555555555556,\"#d8576b\"],[0.6666666666666666,\"#ed7953\"],[0.7777777777777778,\"#fb9f3a\"],[0.8888888888888888,\"#fdca26\"],[1.0,\"#f0f921\"]]}],\"surface\":[{\"type\":\"surface\",\"colorbar\":{\"outlinewidth\":0,\"ticks\":\"\"},\"colorscale\":[[0.0,\"#0d0887\"],[0.1111111111111111,\"#46039f\"],[0.2222222222222222,\"#7201a8\"],[0.3333333333333333,\"#9c179e\"],[0.4444444444444444,\"#bd3786\"],[0.5555555555555556,\"#d8576b\"],[0.6666666666666666,\"#ed7953\"],[0.7777777777777778,\"#fb9f3a\"],[0.8888888888888888,\"#fdca26\"],[1.0,\"#f0f921\"]]}],\"mesh3d\":[{\"type\":\"mesh3d\",\"colorbar\":{\"outlinewidth\":0,\"ticks\":\"\"}}],\"scatter\":[{\"fillpattern\":{\"fillmode\":\"overlay\",\"size\":10,\"solidity\":0.2},\"type\":\"scatter\"}],\"parcoords\":[{\"type\":\"parcoords\",\"line\":{\"colorbar\":{\"outlinewidth\":0,\"ticks\":\"\"}}}],\"scatterpolargl\":[{\"type\":\"scatterpolargl\",\"marker\":{\"colorbar\":{\"outlinewidth\":0,\"ticks\":\"\"}}}],\"bar\":[{\"error_x\":{\"color\":\"#2a3f5f\"},\"error_y\":{\"color\":\"#2a3f5f\"},\"marker\":{\"line\":{\"color\":\"#E5ECF6\",\"width\":0.5},\"pattern\":{\"fillmode\":\"overlay\",\"size\":10,\"solidity\":0.2}},\"type\":\"bar\"}],\"scattergeo\":[{\"type\":\"scattergeo\",\"marker\":{\"colorbar\":{\"outlinewidth\":0,\"ticks\":\"\"}}}],\"scatterpolar\":[{\"type\":\"scatterpolar\",\"marker\":{\"colorbar\":{\"outlinewidth\":0,\"ticks\":\"\"}}}],\"histogram\":[{\"marker\":{\"pattern\":{\"fillmode\":\"overlay\",\"size\":10,\"solidity\":0.2}},\"type\":\"histogram\"}],\"scattergl\":[{\"type\":\"scattergl\",\"marker\":{\"colorbar\":{\"outlinewidth\":0,\"ticks\":\"\"}}}],\"scatter3d\":[{\"type\":\"scatter3d\",\"line\":{\"colorbar\":{\"outlinewidth\":0,\"ticks\":\"\"}},\"marker\":{\"colorbar\":{\"outlinewidth\":0,\"ticks\":\"\"}}}],\"scattermapbox\":[{\"type\":\"scattermapbox\",\"marker\":{\"colorbar\":{\"outlinewidth\":0,\"ticks\":\"\"}}}],\"scatterternary\":[{\"type\":\"scatterternary\",\"marker\":{\"colorbar\":{\"outlinewidth\":0,\"ticks\":\"\"}}}],\"scattercarpet\":[{\"type\":\"scattercarpet\",\"marker\":{\"colorbar\":{\"outlinewidth\":0,\"ticks\":\"\"}}}],\"carpet\":[{\"aaxis\":{\"endlinecolor\":\"#2a3f5f\",\"gridcolor\":\"white\",\"linecolor\":\"white\",\"minorgridcolor\":\"white\",\"startlinecolor\":\"#2a3f5f\"},\"baxis\":{\"endlinecolor\":\"#2a3f5f\",\"gridcolor\":\"white\",\"linecolor\":\"white\",\"minorgridcolor\":\"white\",\"startlinecolor\":\"#2a3f5f\"},\"type\":\"carpet\"}],\"table\":[{\"cells\":{\"fill\":{\"color\":\"#EBF0F8\"},\"line\":{\"color\":\"white\"}},\"header\":{\"fill\":{\"color\":\"#C8D4E3\"},\"line\":{\"color\":\"white\"}},\"type\":\"table\"}],\"barpolar\":[{\"marker\":{\"line\":{\"color\":\"#E5ECF6\",\"width\":0.5},\"pattern\":{\"fillmode\":\"overlay\",\"size\":10,\"solidity\":0.2}},\"type\":\"barpolar\"}],\"pie\":[{\"automargin\":true,\"type\":\"pie\"}]},\"layout\":{\"autotypenumbers\":\"strict\",\"colorway\":[\"#636efa\",\"#EF553B\",\"#00cc96\",\"#ab63fa\",\"#FFA15A\",\"#19d3f3\",\"#FF6692\",\"#B6E880\",\"#FF97FF\",\"#FECB52\"],\"font\":{\"color\":\"#2a3f5f\"},\"hovermode\":\"closest\",\"hoverlabel\":{\"align\":\"left\"},\"paper_bgcolor\":\"white\",\"plot_bgcolor\":\"#E5ECF6\",\"polar\":{\"bgcolor\":\"#E5ECF6\",\"angularaxis\":{\"gridcolor\":\"white\",\"linecolor\":\"white\",\"ticks\":\"\"},\"radialaxis\":{\"gridcolor\":\"white\",\"linecolor\":\"white\",\"ticks\":\"\"}},\"ternary\":{\"bgcolor\":\"#E5ECF6\",\"aaxis\":{\"gridcolor\":\"white\",\"linecolor\":\"white\",\"ticks\":\"\"},\"baxis\":{\"gridcolor\":\"white\",\"linecolor\":\"white\",\"ticks\":\"\"},\"caxis\":{\"gridcolor\":\"white\",\"linecolor\":\"white\",\"ticks\":\"\"}},\"coloraxis\":{\"colorbar\":{\"outlinewidth\":0,\"ticks\":\"\"}},\"colorscale\":{\"sequential\":[[0.0,\"#0d0887\"],[0.1111111111111111,\"#46039f\"],[0.2222222222222222,\"#7201a8\"],[0.3333333333333333,\"#9c179e\"],[0.4444444444444444,\"#bd3786\"],[0.5555555555555556,\"#d8576b\"],[0.6666666666666666,\"#ed7953\"],[0.7777777777777778,\"#fb9f3a\"],[0.8888888888888888,\"#fdca26\"],[1.0,\"#f0f921\"]],\"sequentialminus\":[[0.0,\"#0d0887\"],[0.1111111111111111,\"#46039f\"],[0.2222222222222222,\"#7201a8\"],[0.3333333333333333,\"#9c179e\"],[0.4444444444444444,\"#bd3786\"],[0.5555555555555556,\"#d8576b\"],[0.6666666666666666,\"#ed7953\"],[0.7777777777777778,\"#fb9f3a\"],[0.8888888888888888,\"#fdca26\"],[1.0,\"#f0f921\"]],\"diverging\":[[0,\"#8e0152\"],[0.1,\"#c51b7d\"],[0.2,\"#de77ae\"],[0.3,\"#f1b6da\"],[0.4,\"#fde0ef\"],[0.5,\"#f7f7f7\"],[0.6,\"#e6f5d0\"],[0.7,\"#b8e186\"],[0.8,\"#7fbc41\"],[0.9,\"#4d9221\"],[1,\"#276419\"]]},\"xaxis\":{\"gridcolor\":\"white\",\"linecolor\":\"white\",\"ticks\":\"\",\"title\":{\"standoff\":15},\"zerolinecolor\":\"white\",\"automargin\":true,\"zerolinewidth\":2},\"yaxis\":{\"gridcolor\":\"white\",\"linecolor\":\"white\",\"ticks\":\"\",\"title\":{\"standoff\":15},\"zerolinecolor\":\"white\",\"automargin\":true,\"zerolinewidth\":2},\"scene\":{\"xaxis\":{\"backgroundcolor\":\"#E5ECF6\",\"gridcolor\":\"white\",\"linecolor\":\"white\",\"showbackground\":true,\"ticks\":\"\",\"zerolinecolor\":\"white\",\"gridwidth\":2},\"yaxis\":{\"backgroundcolor\":\"#E5ECF6\",\"gridcolor\":\"white\",\"linecolor\":\"white\",\"showbackground\":true,\"ticks\":\"\",\"zerolinecolor\":\"white\",\"gridwidth\":2},\"zaxis\":{\"backgroundcolor\":\"#E5ECF6\",\"gridcolor\":\"white\",\"linecolor\":\"white\",\"showbackground\":true,\"ticks\":\"\",\"zerolinecolor\":\"white\",\"gridwidth\":2}},\"shapedefaults\":{\"line\":{\"color\":\"#2a3f5f\"}},\"annotationdefaults\":{\"arrowcolor\":\"#2a3f5f\",\"arrowhead\":0,\"arrowwidth\":1},\"geo\":{\"bgcolor\":\"white\",\"landcolor\":\"#E5ECF6\",\"subunitcolor\":\"white\",\"showland\":true,\"showlakes\":true,\"lakecolor\":\"white\"},\"title\":{\"x\":0.05},\"mapbox\":{\"style\":\"light\"}}},\"mapbox\":{\"layers\":[{\"color\":\"gray\",\"opacity\":0.4,\"source\":{\"type\":\"MultiPolygon\",\"coordinates\":[[[[18.72334451114761,45.56679245962113],[18.723307,45.566604],[18.723170528827964,45.566602718033394],[18.72334451114761,45.56679245962113]]],[[[18.683904605546626,45.53971680561182],[18.683875,45.539791],[18.682099300639518,45.539778570104474],[18.6821,45.539811],[18.684227,45.539923],[18.6842603195238,45.53977119445658],[18.683904605546626,45.53971680561182]]],[[[18.682316911262927,45.53954777330212],[18.682094221060503,45.53954302603036],[18.682096785821557,45.539661956017696],[18.682316911262927,45.53954777330212]]],[[[18.68118,45.534944],[18.681178968837266,45.53494796997654],[18.681181008235395,45.534945933176374],[18.68118,45.534944]]],[[[18.680187459824086,45.53715338941451],[18.680157,45.537569],[18.67989505102842,45.53756234654541],[18.679875,45.537757],[18.67909223738211,45.5377324030231],[18.679114,45.537797],[18.680227,45.537845],[18.680328629106743,45.53682350930384],[18.680187459824086,45.53715338941451]]],[[[18.677596,45.535919],[18.676875,45.53578],[18.6765824478698,45.53583632236302],[18.676565743917763,45.535921111420464],[18.676456,45.535944],[18.676261210386656,45.53661494200153],[18.676157,45.537567],[18.675903213345883,45.53756687310668],[18.675875,45.537753],[18.675115533517083,45.53775224053352],[18.675125,45.537786],[18.676227,45.53784],[18.676639,45.536096],[18.677227,45.53589],[18.677661337559634,45.53619788821506],[18.677596,45.535919]]],[[[18.67364,45.536876],[18.672762,45.536641],[18.672763104300405,45.53654487985232],[18.672124240362038,45.536484243054815],[18.672128,45.536783],[18.67364763810761,45.53690443976238],[18.67364,45.536876]]],[[[18.672149435272303,45.534555865762144],[18.6721,45.534558],[18.672111413172523,45.535464939602356],[18.672149435272303,45.534555865762144]]],[[[18.672378,45.535258],[18.6727641788398,45.53525036275725],[18.67277061008198,45.534529048173624],[18.67220170288028,45.53455360924565],[18.672378,45.535258]]],[[[18.669875,45.533774],[18.668919635251953,45.5338660562977],[18.66886151037577,45.533919647433535],[18.670227,45.533878],[18.670229547533033,45.53383833127134],[18.669875,45.533774]]],[[[18.66612095896945,45.53477607979006],[18.666227,45.53488],[18.667361,45.534818],[18.667407040704354,45.534771268153435],[18.66612095896945,45.53477607979006]]],[[[18.667490700690323,45.536671850555216],[18.667599,45.53689],[18.667705212444748,45.536906526414555],[18.667904,45.537124],[18.668492951934827,45.53716990689986],[18.668227,45.536507],[18.66733183210332,45.536498048321036],[18.667490700690323,45.536671850555216]]],[[[18.669461,45.538028],[18.670262,45.538228],[18.670403,45.539086],[18.670999448906187,45.53919611364422],[18.670989420851896,45.539894202969144],[18.672355,45.539684],[18.671502,45.539409],[18.670328,45.537582],[18.669276365779897,45.53744190133689],[18.669461,45.538028]]],[[[18.67038,45.540509],[18.67032789609265,45.54155731593876],[18.670105,45.541593],[18.669904,45.542508],[18.669613,45.541684],[18.66892147934931,45.54161976037671],[18.668912,45.541578],[18.668077,45.541413],[18.667807,45.540683],[18.666179943549317,45.53959292792036],[18.666037,45.539259],[18.665747997909836,45.5393035391402],[18.66518,45.538923],[18.664688,45.540309],[18.665146946800938,45.54094466038911],[18.66513474201289,45.54164512804605],[18.66418,45.542811],[18.661929,45.544309],[18.662113280676774,45.54599964841078],[18.664227,45.546127],[18.665227,45.546854],[18.668108987512323,45.546850157349986],[18.668019,45.546759],[18.665241,45.546756],[18.664376155830094,45.54622661911695],[18.66718,45.546123],[18.667809,45.545937],[18.66806190416894,45.545260109430195],[18.669254171724436,45.545304498228795],[18.669365,45.546125],[18.670236,45.546254],[18.670336,45.547154],[18.671053788245924,45.54724000598243],[18.671054,45.547242],[18.671229171834913,45.54726187489117],[18.67137218014771,45.54798999648378],[18.671876,45.548035],[18.67233,45.548684],[18.6723,45.547611],[18.671454,45.547457],[18.671305,45.546606],[18.670468,45.546442],[18.670311,45.5456],[18.669486,45.545425],[18.669506,45.543684],[18.670363,45.542684],[18.67048160688693,45.540492596565294],[18.67038,45.540509]]],[[[18.65564,45.550155],[18.655019,45.550374],[18.653237,45.550534],[18.655207,45.551346],[18.655114197955772,45.55139847169054],[18.655391,45.551479],[18.654453,45.552479],[18.65428203999966,45.55402341567873],[18.65462,45.553684],[18.654906,45.552363],[18.656227,45.551419],[18.656039,45.554872],[18.657227,45.554936],[18.658227,45.5559],[18.662395,45.555684],[18.662227,45.55451],[18.661227,45.555478],[18.660361,45.55455],[18.659227,45.554437],[18.658474,45.553684],[18.658736,45.552193],[18.659227,45.551948],[18.660069,45.552842],[18.661227,45.552874],[18.66136,45.551551],[18.659668,45.551243],[18.659227,45.550415],[18.656687,45.550224],[18.655720624928954,45.54996652061463],[18.65564,45.550155]]],[[[18.653157,45.554825],[18.650019,45.555341],[18.648935,45.556257],[18.647692,45.556479],[18.647683071056417,45.55665115003225],[18.648227,45.557126],[18.650203,45.556684],[18.649694,45.555684],[18.653227,45.555083],[18.653403415762888,45.55490582437022],[18.653157,45.554825]]],[[[18.669247332120392,45.566744194931374],[18.670227,45.566598],[18.669753100572805,45.56659657830172],[18.669247332120392,45.566744194931374]]],[[[18.707341804614497,45.56967319484007],[18.707162,45.569684],[18.70733512546633,45.56971020277329],[18.707341804614497,45.56967319484007]]],[[[18.707380266410222,45.569717034916145],[18.70785036351976,45.56978818474894],[18.70786597432885,45.569641695439394],[18.707371970406992,45.56967138206005],[18.707380266410222,45.569717034916145]]],[[[18.70792394849278,45.56979932193404],[18.708087,45.569824],[18.708080433504442,45.5701421765574],[18.708133012617544,45.569625648068055],[18.707891794859624,45.56964014378308],[18.70792394849278,45.56979932193404]]],[[[18.708270166384146,45.56991208202995],[18.708227,45.56962],[18.708207113785235,45.569621195040135],[18.708270166384146,45.56991208202995]]],[[[18.671019,45.547921],[18.669119183572757,45.54777946367617],[18.669122,45.547789],[18.67107298606142,45.5479632710861],[18.671019,45.547921]]],[[[18.711077474575532,45.537124863824836],[18.710847612369,45.53745977362452],[18.711330549043033,45.537434948107624],[18.711423545394105,45.53710530250545],[18.711077474575532,45.537124863824836]]],[[[18.709247044632445,45.538899158913416],[18.709222964584047,45.53905448376461],[18.709117274065026,45.53906519249561],[18.70892245703356,45.539835383125386],[18.709299,45.539756],[18.709376020027136,45.53887026968792],[18.709247044632445,45.538899158913416]]],[[[18.706036980735277,45.53960801058195],[18.706137,45.539774],[18.70653685228341,45.53981379391146],[18.706036980735277,45.53960801058195]]],[[[18.702207865894664,45.536819162556704],[18.702157,45.537577],[18.702008902835402,45.537575923641356],[18.70200476126609,45.53769056580463],[18.702417,45.537684],[18.70238,45.536531],[18.702312070673056,45.53652440148775],[18.702207865894664,45.536819162556704]]]]},\"type\":\"fill\"}],\"center\":{\"lat\":45.55854878748722,\"lon\":18.684848674241845},\"accesstoken\":\"pk.eyJ1IjoiYmVuamFtaW5tZXNpYyIsImEiOiJja3ZucDRjcDQwdG1nMzNxZnJ6cHd2ZzNzIn0.uWSETefP3q7BrtrZ7B1a-g\",\"style\":\"open-street-map\",\"zoom\":12},\"margin\":{\"r\":0,\"t\":0,\"l\":0,\"b\":0},\"showlegend\":false,\"width\":1000,\"height\":1000},                        {\"responsive\": true}                    ).then(function(){\n",
       "                            \n",
       "var gd = document.getElementById('838d7316-7871-4f66-8244-87d20c2e4c02');\n",
       "var x = new MutationObserver(function (mutations, observer) {{\n",
       "        var display = window.getComputedStyle(gd).display;\n",
       "        if (!display || display === 'none') {{\n",
       "            console.log([gd, 'removed!']);\n",
       "            Plotly.purge(gd);\n",
       "            observer.disconnect();\n",
       "        }}\n",
       "}});\n",
       "\n",
       "// Listen for the removal of the full notebook cells\n",
       "var notebookContainer = gd.closest('#notebook-container');\n",
       "if (notebookContainer) {{\n",
       "    x.observe(notebookContainer, {childList: true});\n",
       "}}\n",
       "\n",
       "// Listen for the clearing of the current output cell\n",
       "var outputEl = gd.closest('.output');\n",
       "if (outputEl) {{\n",
       "    x.observe(outputEl, {childList: true});\n",
       "}}\n",
       "\n",
       "                        })                };                });            </script>        </div>"
      ]
     },
     "metadata": {},
     "output_type": "display_data"
    }
   ],
   "source": [
    "PATH_CONFIG = 'data/config/test.json'\n",
    "map = data_handler.Map(PATH_CONFIG)\n",
    "visualization.draw_map(map)"
   ]
  },
  {
   "cell_type": "code",
   "execution_count": 384,
   "id": "2cdc8e78",
   "metadata": {},
   "outputs": [
    {
     "data": {
      "image/svg+xml": [
       "<svg xmlns=\"http://www.w3.org/2000/svg\" xmlns:xlink=\"http://www.w3.org/1999/xlink\" width=\"100.0\" height=\"100.0\" viewBox=\"-10.8 -10.8 21.6 21.6\" preserveAspectRatio=\"xMinYMin meet\"><g transform=\"matrix(1,0,0,-1,0,0.0)\"><path fill-rule=\"evenodd\" fill=\"#66cc99\" stroke=\"#555555\" stroke-width=\"0.43200000000000005\" opacity=\"0.6\" d=\"M 10.0,0.0 L 9.95184726672197,-0.980171403295606 L 9.807852804032304,-1.9509032201612824 L 9.569403357322088,-2.902846772544623 L 9.238795325112868,-3.826834323650898 L 8.819212643483551,-4.7139673682599765 L 8.314696123025453,-5.555702330196022 L 7.73010453362737,-6.343932841636455 L 7.0710678118654755,-7.071067811865475 L 6.343932841636456,-7.730104533627369 L 5.555702330196023,-8.314696123025453 L 4.713967368259978,-8.81921264348355 L 3.8268343236508984,-9.238795325112868 L 2.902846772544623,-9.56940335732209 L 1.950903220161283,-9.807852804032304 L 0.9801714032956077,-9.951847266721968 L 6.123233995736766e-16,-10.0 L -0.9801714032956066,-9.95184726672197 L -1.950903220161282,-9.807852804032304 L -2.9028467725446223,-9.56940335732209 L -3.826834323650897,-9.238795325112868 L -4.713967368259977,-8.819212643483551 L -5.55570233019602,-8.314696123025454 L -6.343932841636453,-7.730104533627371 L -7.071067811865475,-7.0710678118654755 L -7.73010453362737,-6.343932841636455 L -8.314696123025453,-5.555702330196021 L -8.81921264348355,-4.713967368259978 L -9.238795325112868,-3.8268343236508984 L -9.569403357322088,-2.902846772544623 L -9.807852804032304,-1.950903220161286 L -9.951847266721968,-0.9801714032956084 L -10.0,-1.2246467991473533e-15 L -9.95184726672197,0.9801714032956059 L -9.807852804032304,1.9509032201612837 L -9.56940335732209,2.9028467725446214 L -9.238795325112868,3.8268343236508966 L -8.819212643483551,4.7139673682599765 L -8.314696123025454,5.55570233019602 L -7.730104533627371,6.343932841636453 L -7.071067811865477,7.071067811865474 L -6.343932841636459,7.730104533627367 L -5.555702330196022,8.314696123025453 L -4.713967368259978,8.81921264348355 L -3.8268343236509033,9.238795325112864 L -2.902846772544624,9.569403357322088 L -1.9509032201612866,9.807852804032303 L -0.9801714032956045,9.95184726672197 L -1.8369701987210296e-15,10.0 L 0.9801714032956009,9.95184726672197 L 1.9509032201612828,9.807852804032304 L 2.902846772544621,9.56940335732209 L 3.8268343236509,9.238795325112866 L 4.713967368259976,8.819212643483551 L 5.555702330196018,8.314696123025454 L 6.343932841636456,7.730104533627369 L 7.071067811865474,7.071067811865477 L 7.730104533627367,6.343932841636459 L 8.314696123025453,5.555702330196022 L 8.819212643483548,4.713967368259979 L 9.238795325112864,3.826834323650904 L 9.569403357322088,2.9028467725446245 L 9.807852804032303,1.9509032201612873 L 9.95184726672197,0.9801714032956053 L 10.0,0.0 z\" /></g></svg>"
      ],
      "text/plain": [
       "<POLYGON ((10 0, 9.952 -0.98, 9.808 -1.951, 9.569 -2.903, 9.239 -3.827, 8.81...>"
      ]
     },
     "execution_count": 384,
     "metadata": {},
     "output_type": "execute_result"
    }
   ],
   "source": [
    "from shapely.geometry.point import Point\n",
    "p = Point(0, 0)\n",
    "# p.buffer(10.0)"
   ]
  },
  {
   "cell_type": "code",
   "execution_count": 377,
   "id": "2a2a457b",
   "metadata": {},
   "outputs": [],
   "source": [
    "coords = '''\n",
    "45.54874751224148, 18.693024078187314\n",
    "45.54887334228133, 18.694215181583846\n",
    "45.549179798138674, 18.696695922595946\n",
    "45.549573520430755, 18.70003448992367\n",
    "45.550325667906236, 18.70584333406541\n",
    "45.5511689906536, 18.71253362746371\n",
    "45.55076821679749, 18.715320324909392\n",
    "45.550377032600764, 18.71788284469746\n",
    "45.5494456306966, 18.72098180891526\n",
    "45.548334137550384, 18.72429357759693\n",
    "45.54676000209633, 18.729108277387454\n",
    "45.546179392679115, 18.731378191157297\n",
    "45.54589063817886, 18.732229408757924\n",
    "45.54528828529633, 18.73347963469594\n",
    "45.544300909401166, 18.736051021278673\n",
    "45.54338803700385, 18.73850270545489\n",
    "45.54251862094636, 18.740799219706435\n",
    "'''"
   ]
  },
  {
   "cell_type": "code",
   "execution_count": 378,
   "id": "4658f5b2",
   "metadata": {},
   "outputs": [
    {
     "name": "stdout",
     "output_type": "stream",
     "text": [
      "\n",
      "},\n",
      "{\n",
      "\t\"lat\": 45.54874751224148,\n",
      "\t\"lon\": 18.693024078187314\n",
      "},\n",
      "{\n",
      "\t\"lat\": 45.54887334228133,\n",
      "\t\"lon\": 18.694215181583846\n",
      "},\n",
      "{\n",
      "\t\"lat\": 45.549179798138674,\n",
      "\t\"lon\": 18.696695922595946\n",
      "},\n",
      "{\n",
      "\t\"lat\": 45.549573520430755,\n",
      "\t\"lon\": 18.70003448992367\n",
      "},\n",
      "{\n",
      "\t\"lat\": 45.550325667906236,\n",
      "\t\"lon\": 18.70584333406541\n",
      "},\n",
      "{\n",
      "\t\"lat\": 45.5511689906536,\n",
      "\t\"lon\": 18.71253362746371\n",
      "},\n",
      "{\n",
      "\t\"lat\": 45.55076821679749,\n",
      "\t\"lon\": 18.715320324909392\n",
      "},\n",
      "{\n",
      "\t\"lat\": 45.550377032600764,\n",
      "\t\"lon\": 18.71788284469746\n",
      "},\n",
      "{\n",
      "\t\"lat\": 45.5494456306966,\n",
      "\t\"lon\": 18.72098180891526\n",
      "},\n",
      "{\n",
      "\t\"lat\": 45.548334137550384,\n",
      "\t\"lon\": 18.72429357759693\n",
      "},\n",
      "{\n",
      "\t\"lat\": 45.54676000209633,\n",
      "\t\"lon\": 18.729108277387454\n",
      "},\n",
      "{\n",
      "\t\"lat\": 45.546179392679115,\n",
      "\t\"lon\": 18.731378191157297\n",
      "},\n",
      "{\n",
      "\t\"lat\": 45.54589063817886,\n",
      "\t\"lon\": 18.732229408757924\n",
      "},\n",
      "{\n",
      "\t\"lat\": 45.54528828529633,\n",
      "\t\"lon\": 18.73347963469594\n",
      "},\n",
      "{\n",
      "\t\"lat\": 45.544300909401166,\n",
      "\t\"lon\": 18.736051021278673\n",
      "},\n",
      "{\n",
      "\t\"lat\": 45.54338803700385,\n",
      "\t\"lon\": 18.73850270545489\n",
      "},\n",
      "{\n",
      "\t\"lat\": 45.54251862094636,\n",
      "\t\"lon\": 18.740799219706435\n",
      "},\n",
      "\n",
      "}\n"
     ]
    }
   ],
   "source": [
    "coords_out = coords.replace('\\n', '\\n},\\n')\n",
    "coords_out = coords_out.replace(', ', ',\\n')\n",
    "coords_out = coords_out.replace('45.', '{\\n\\t\"lat\": 45.')\n",
    "coords_out = coords_out.replace('18.', '\\t\"lon\": 18.') + '\\n}'\n",
    "\n",
    "print(coords_out)"
   ]
  },
  {
   "cell_type": "code",
   "execution_count": null,
   "id": "42b9c99d",
   "metadata": {},
   "outputs": [],
   "source": []
  }
 ],
 "metadata": {
  "kernelspec": {
   "display_name": "Python 3 (ipykernel)",
   "language": "python",
   "name": "python3"
  },
  "language_info": {
   "codemirror_mode": {
    "name": "ipython",
    "version": 3
   },
   "file_extension": ".py",
   "mimetype": "text/x-python",
   "name": "python",
   "nbconvert_exporter": "python",
   "pygments_lexer": "ipython3",
   "version": "3.9.6"
  }
 },
 "nbformat": 4,
 "nbformat_minor": 5
}
